{
 "cells": [
  {
   "cell_type": "markdown",
   "id": "748114db-3869-4eaa-95c0-2c485276db52",
   "metadata": {},
   "source": [
    "# Bing Chat version below"
   ]
  },
  {
   "cell_type": "code",
   "execution_count": null,
   "id": "a5d953f4-b881-48f9-b7d0-865f2bf054de",
   "metadata": {},
   "outputs": [],
   "source": [
    "import numpy as np\n",
    "from scipy import stats\n",
    "\n",
    "# simulate random reward task with parameter set that fits an animal who\n",
    "# showed negative rewrad response initially\n",
    "\n",
    "np.random.seed(7)\n",
    "\n",
    "# parameter set up\n",
    "# task parameters\n",
    "meanITI = 12\n",
    "numrewards = 500\n",
    "\n",
    "# anccr model parameters\n",
    "samplingperiod = 0.2\n",
    "alpha_anccr = {'exponent': 0.1, 'init': 0.25, 'min': 0.02}\n",
    "alpha_r = 0.2\n",
    "w = 0.5\n",
    "k = 1\n",
    "minimumrate = 10**(-3)\n",
    "maximumjitter = 0.1\n",
    "beta = [1]\n",
    "threshold = 0.6\n",
    "T = meanITI*10 # have very large T\n",
    "\n",
    "nIter = 100\n",
    "rwrsp = np.empty((numrewards,nIter))\n",
    "rwrsp[:] = np.nan\n",
    "\n",
    "# simulation\n",
    "for iiter in range(nIter):\n",
    "    print(iiter)\n",
    "    eventlog = simulateBackgroundRewards(numrewards(1),meanITI,1,1,0)\n",
    "    eventlog[:,1] += 1\n",
    "    \n",
    "    DA = calculateANCCR(eventlog[0:numrewards,:],T,alpha_anccr,k,samplingperiod,w,threshold,\n",
    "        minimumrate,beta,alpha_r,maximumjitter)\n",
    "    eventtimeline = eventlog[0:numrewards,0]\n",
    "    \n",
    "    rwrsp[:,iiter] = DA[eventtimeline[:,0]==1]\n",
    "\n",
    "# FigS8J\n",
    "import matplotlib.pyplot as plt\n",
    "\n",
    "fHandle = plt.figure()\n",
    "\n",
    "plt.plot(np.cumsum(rwrsp,axis=0)/np.tile(np.sum(rwrsp,axis=0),(numrewards,1)),color=[0.6,0.6,0.6],linewidth=0.35)\n",
    "plt.plot(np.mean(np.cumsum(rwrsp,axis=0)/np.tile(np.sum(rwrsp,axis=0),(numrewards,1)),axis=1),color='k',linewidth=1)\n",
    "plt.ylim([-1.3, 1.5])\n",
    "plt.xlim([0, numrewards])\n",
    "plt.xlabel('Trial')\n",
    "plt.ylabel('Normalized\\ncumsum (predicted DA)')\n",
    "# plt.gca().set(xticklabels=[0,200,400],yticklabels=[-1,0,1])"
   ]
  }
 ],
 "metadata": {
  "kernelspec": {
   "display_name": "Python 3 (ipykernel)",
   "language": "python",
   "name": "python3"
  },
  "language_info": {
   "codemirror_mode": {
    "name": "ipython",
    "version": 3
   },
   "file_extension": ".py",
   "mimetype": "text/x-python",
   "name": "python",
   "nbconvert_exporter": "python",
   "pygments_lexer": "ipython3",
   "version": "3.8.10"
  }
 },
 "nbformat": 4,
 "nbformat_minor": 5
}
