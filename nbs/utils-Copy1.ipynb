{
 "cells": [
  {
   "cell_type": "markdown",
   "id": "32283574-42e8-4525-9c32-292ebc735706",
   "metadata": {},
   "source": [
    "# Port ANCCR function to Python\n",
    "\n",
    "Utilizing `calculateANCCR` function in `ANCCR.functions.calculateANCCR.m`."
   ]
  },
  {
   "cell_type": "code",
   "execution_count": 31,
   "id": "5fc14747-ea0f-4412-8fe1-dcc2cbc14a55",
   "metadata": {
    "tags": []
   },
   "outputs": [],
   "source": [
    "from typing import Dict, List\n",
    "\n",
    "import numpy as np"
   ]
  },
  {
   "cell_type": "code",
   "execution_count": 78,
   "id": "391c68c6-2591-47bb-91a6-e6520a2fd48e",
   "metadata": {
    "tags": []
   },
   "outputs": [],
   "source": [
    "meanITI = 12\n",
    "numrewards = 8  # 500\n",
    "\n",
    "# anccr model parameters\n",
    "samplingperiod = 0.2\n",
    "alpha_anccr = {}\n",
    "alpha_anccr[\"exponent\"] = 0.1\n",
    "alpha_anccr[\"init\"] = 0.25\n",
    "alpha_anccr[\"min\"] = 0.02\n",
    "alpha_r = 0.2\n",
    "w = 0.5          \n",
    "k = 1\n",
    "minimumrate = 10 ** -3\n",
    "maximumjitter = 0.1\n",
    "beta = np.array([[1]])  # Check what beta does in calculate_anccr\n",
    "threshold = 0.6\n",
    "T = meanITI*10  # have very large T\n",
    "\n",
    "nIter = 100\n",
    "rwrsp = np.zeros((numrewards,nIter))"
   ]
  },
  {
   "cell_type": "code",
   "execution_count": 79,
   "id": "81d49f19-3df3-4a5e-8e5c-158946c88935",
   "metadata": {
    "tags": []
   },
   "outputs": [
    {
     "data": {
      "text/plain": [
       "array([[ 1.    ,  2.4589,  1.    ],\n",
       "       [ 1.    ,  3.6462,  1.    ],\n",
       "       [ 1.    , 28.4103,  1.    ],\n",
       "       [ 1.    , 29.4976,  1.    ],\n",
       "       [ 1.    , 34.9972,  1.    ],\n",
       "       [ 1.    , 62.927 ,  1.    ],\n",
       "       [ 1.    , 78.2671,  1.    ],\n",
       "       [ 1.    , 85.5094,  1.    ]])"
      ]
     },
     "execution_count": 79,
     "metadata": {},
     "output_type": "execute_result"
    }
   ],
   "source": [
    "eventlog = np.array([\n",
    "    [1.0, 2.4589, 1.0],\n",
    "    [1.0, 3.6462, 1.0],\n",
    "    [1, 28.4103, 1.0],\n",
    "    [1, 29.4976, 1.0],\n",
    "    [1, 34.9972, 1.0],\n",
    "    [1, 62.9270, 1.0],\n",
    "    [1, 78.2671, 1.0],\n",
    "    [1, 85.5094, 1.0],\n",
    "])\n",
    "eventlog"
   ]
  },
  {
   "cell_type": "code",
   "execution_count": 80,
   "id": "87964528-6336-4502-9c63-36e81d9bdd03",
   "metadata": {
    "tags": []
   },
   "outputs": [],
   "source": [
    "samplinginterval = samplingperiod\n",
    "alpha = alpha_anccr\n",
    "\n",
    "if alpha_r > 1:\n",
    "    alpha_r = 1\n",
    "\n",
    "optolog = np.zeros((eventlog.shape[0], 2))\n",
    "omidx = np.array([[np.nan], [np.nan]])\n",
    "exact_mean_or_not = 0\n",
    "nevent_for_edge = 0\n",
    "\n",
    "# omtrue: whether the omission state will be used or not in the calculation of ANCCR\n",
    "omtrue = np.zeros((len(omidx),), dtype=bool)\n",
    "\n",
    "uniquetime = np.unique(eventlog[:, 1])\n",
    "\n",
    "# if more than one event happens at the same time, assume random perceptual delay between them\n",
    "for jt in range(len(uniquetime)):\n",
    "    if sum(eventlog[:, 1] == uniquetime[jt]) == 1:\n",
    "        continue\n",
    "    idx = np.where(eventlog[:, 1] == uniquetime[jt])[0]\n",
    "    eventlog[idx[1:], 1] += np.random.randn(len(idx) - 1) * maximumjitter\n",
    "\n",
    "eventlog = eventlog[eventlog[:, 1].argsort()]\n",
    "\n",
    "ntime = eventlog.shape[0]\n",
    "\n",
    "nstimuli = len(np.unique(eventlog[:, 0]))\n",
    "\n",
    "samplingtime = np.arange(0, eventlog[-1, 1], samplinginterval)\n",
    "\n",
    "# if T is a vector, use T(jt) for the calculation at time jt. otherwise, use fixed T\n",
    "if isinstance(T, (int, float)):\n",
    "    T = np.full((eventlog.shape[0],), T)\n",
    "\n",
    "gamma = np.exp(-1 / T)\n",
    "\n",
    "# Initialize model values\n",
    "Eij = np.zeros((nstimuli, ntime))\n",
    "Ei = np.zeros((nstimuli, ntime))\n",
    "Mi = np.zeros((nstimuli, ntime))\n",
    "Delta = np.zeros((nstimuli, ntime))\n",
    "\n",
    "Mij = np.zeros((nstimuli, nstimuli, ntime))\n",
    "PRC = np.zeros((nstimuli, nstimuli, ntime))\n",
    "SRC = np.zeros((nstimuli, nstimuli, ntime))\n",
    "NC = np.zeros((nstimuli, nstimuli, ntime))\n",
    "ANCCR = np.zeros((nstimuli, nstimuli, ntime))\n",
    "Rs = np.zeros((nstimuli, nstimuli, ntime))\n",
    "\n",
    "R = np.zeros((nstimuli, nstimuli))\n",
    "\n",
    "numevents = np.zeros((nstimuli,))\n",
    "\n",
    "DA = np.zeros((ntime,))\n",
    "\n",
    "beta = beta[np.unique(eventlog[:, 0]).astype(int)[0] - 1]\n",
    "\n",
    "Imct = beta > threshold\n",
    "\n",
    "nextt = 0\n",
    "numsampling = 0"
   ]
  },
  {
   "cell_type": "code",
   "execution_count": 94,
   "id": "d532d421-4fed-4764-b368-d64c51c67914",
   "metadata": {
    "tags": []
   },
   "outputs": [
    {
     "name": "stdout",
     "output_type": "stream",
     "text": [
      "alphat = 0.2281\n",
      "0.1904\n"
     ]
    }
   ],
   "source": [
    "jt = 2\n",
    "skip = False\n",
    "je = int(eventlog[jt, 0]) - 1\n",
    "\n",
    "if je in omidx[0]:\n",
    "    if not omtrue[omidx[0] == je]:\n",
    "        Delta[:, jt] = Delta[:, jt - 1]\n",
    "        Eij[:, jt] = Eij[:, jt - 1]\n",
    "        Mij[:, :, jt] = Mij[:, :, jt - 1]\n",
    "        PRC[:, :, jt] = PRC[:, :, jt - 1]\n",
    "        SRC[:, :, jt] = SRC[:, :, jt - 1]\n",
    "        NC[:, :, jt] = NC[:, :, jt - 1]\n",
    "        skip = True\n",
    "\n",
    "\n",
    "numevents[je] += 1\n",
    "if exact_mean_or_not == 0:\n",
    "    if not isinstance(alpha, dict):\n",
    "        alphat = alpha\n",
    "    else:\n",
    "        # if alpha is structure, alpha exponentially decreases from alpha.init to alpha.min w/ alpha.exponent decrease constant\n",
    "        alphat = np.exp(-alpha['exponent'] * (jt + 1)) * (alpha['init'] - alpha['min']) + alpha['min']\n",
    "else:\n",
    "    alphat = 1 / numevents[je]\n",
    "\n",
    "print(\"alphat = 0.2281\")\n",
    "print(round(alphat, 4))"
   ]
  },
  {
   "cell_type": "code",
   "execution_count": 95,
   "id": "75184008-3ea3-4c7c-91d9-f81ea12f22ac",
   "metadata": {
    "tags": []
   },
   "outputs": [
    {
     "name": "stdout",
     "output_type": "stream",
     "text": [
      "[[1. 1. 1. 0. 0. 0. 0. 0.]]\n",
      "[[1.         1.99015462 2.61905854 0.         0.         0.\n",
      "  0.         0.        ]]\n",
      "[[[0.22811261 0.59516018 0.98048653 0.         0.         0.\n",
      "   0.         0.        ]]]\n",
      "[[[ 0.22811261 -0.18818689 -0.64904152  0.          0.\n",
      "    0.          0.          0.        ]]]\n",
      "[[[ 0.         -0.18818689 -0.64904152  0.          0.\n",
      "    0.          0.          0.        ]]]\n"
     ]
    }
   ],
   "source": [
    "if jt > 0:\n",
    "    # update delta w/prev value\n",
    "    Delta[:, jt] = Delta[:, jt - 1] * gamma[jt] ** (eventlog[jt, 1] - eventlog[jt - 1, 1])\n",
    "    # update instantaneous elig. trace w/prev value\n",
    "    Eij[:, jt] = Eij[:, jt - 1] * gamma[jt] ** (eventlog[jt, 1] - eventlog[jt - 1, 1])\n",
    "    # update average elig. trace w/prev value\n",
    "    Mij[:, :, jt] = Mij[:, :, jt - 1]\n",
    "    # update anccr w/prev value\n",
    "    ANCCR[~np.isin(np.arange(nstimuli), je), :, jt] = ANCCR[~np.isin(np.arange(nstimuli), je), :, jt - 1]\n",
    "\n",
    "# Indicator for whether event has recently happened\n",
    "# Delta resets to one at every instance of event w/o cumulative sum\n",
    "Delta[je, jt] = 1\n",
    "# Increment inst. elig. trace by 1 for event that occurred\n",
    "Eij[je, jt] += 1\n",
    "# Update avg. elig. trace\n",
    "Mij[:, je, jt] += alphat * (Eij[:, jt] - Mij[:, je, jt]) * Imct[je]\n",
    "\n",
    "# Subtract baseline elig. from avg. elig. to find successor rep.\n",
    "PRC[:, :, jt] = Mij[:, :, jt] - np.tile(Mi[:, jt], (nstimuli, 1)).T\n",
    "# Calculate predecessor rep from successor rep.\n",
    "SRC[:, :, jt] = PRC[:, :, jt] * np.tile(Mi[:, jt], (nstimuli, 1)) / np.tile(Mi[:, jt], (nstimuli, 1)).T\n",
    "\n",
    "print(Delta)\n",
    "print(Eij)\n",
    "print(Mij)\n",
    "print(PRC)\n",
    "print(SRC)"
   ]
  },
  {
   "cell_type": "code",
   "execution_count": 96,
   "id": "476ae127-3992-46ba-9bb2-c55057ff3c7c",
   "metadata": {
    "tags": []
   },
   "outputs": [
    {
     "name": "stdout",
     "output_type": "stream",
     "text": [
      "[False]\n",
      "[[[ 0.         -0.18818689 -0.64904152  0.          0.\n",
      "    0.          0.          0.        ]]]\n"
     ]
    }
   ],
   "source": [
    "# Zero out values that may approach -Inf\n",
    "belowminrate = Mi[:, jt] / T[jt] < minimumrate\n",
    "SRC[belowminrate, :, jt] = 0\n",
    "\n",
    "print(belowminrate)\n",
    "print(SRC)"
   ]
  },
  {
   "cell_type": "code",
   "execution_count": 97,
   "id": "2e7fd68a-db1f-44f0-be84-c39b88c0689b",
   "metadata": {
    "tags": []
   },
   "outputs": [
    {
     "name": "stdout",
     "output_type": "stream",
     "text": [
      "[False]\n",
      "[False]\n",
      "[[[ 0.1140563  -0.18818689 -0.64904152  0.          0.\n",
      "    0.          0.          0.        ]]]\n"
     ]
    }
   ],
   "source": [
    "# something to make sure only calculating contingency and R after experiencing first outcome\n",
    "PRC[numevents == 0, :, jt] = 0\n",
    "PRC[:, numevents == 0, jt] = 0\n",
    "SRC[numevents == 0, :, jt] = 0\n",
    "SRC[:, numevents == 0, jt] = 0\n",
    "R[:, numevents == 0] = 0\n",
    "R[numevents == 0, :] = 0\n",
    "\n",
    "# Calculate net contingency, weighted sum of SRC/PRC\n",
    "NC[:, :, jt] = w * SRC[:, :, jt] + (1 - w) * PRC[:, :, jt]\n",
    "\n",
    "# Indicator for whether an event is associated with another event\n",
    "Iedge = np.mean(NC[:, je, max([0, jt - nevent_for_edge]):jt+1], axis=1) > threshold\n",
    "Iedge[je] = False\n",
    "\n",
    "# once the cause of reward state is revealed, omission state of that reward state can be used for calculation of ANCCR. Before that, omission state is ignored\n",
    "if je in omidx[1] and np.sum(Iedge) > 0:\n",
    "    omtrue[omidx[1] == je] |= True\n",
    "\n",
    "# calculate ANCCR for every event\n",
    "# Rjj is externally driven; the magnitude of stimulus an animal just experienced\n",
    "R[je, je] = eventlog[jt, 2]\n",
    "\n",
    "for ke in range(nstimuli):\n",
    "    # Update edge indicator\n",
    "    Iedge_ke = np.mean(NC[:, ke, max([0, jt - nevent_for_edge]):jt+1], axis=1) > threshold\n",
    "    print(Iedge_ke)\n",
    "    Iedge_ke[ke] = False\n",
    "    # update ANCCR\n",
    "    ANCCR[ke, :, jt] = NC[ke, :, jt] * R[ke, :] - np.sum(ANCCR[:, :, jt] * Delta[:, jt].reshape(-1,1) * np.tile(Iedge_ke.reshape(-1,1), (1,nstimuli)), axis=0)\n",
    "    \n",
    "print(Iedge_ke)\n",
    "print(ANCCR)"
   ]
  },
  {
   "cell_type": "code",
   "execution_count": 98,
   "id": "b5c51928-ec3b-4deb-a898-ffdc5da08577",
   "metadata": {
    "tags": []
   },
   "outputs": [
    {
     "name": "stdout",
     "output_type": "stream",
     "text": [
      "[ 0.1140563  -0.18818689 -0.64904152  0.          0.          0.\n",
      "  0.          0.        ]\n",
      "[[1.]]\n",
      "[[[1. 1. 1. 0. 0. 0. 0. 0.]]]\n"
     ]
    }
   ],
   "source": [
    "if not (optolog[jt, 0] == 1): # If target is not inhibited, normal DA\n",
    "    DA[jt] = np.sum(ANCCR[je,:,jt]*Imct)\n",
    "else: # If target is inhibited, replace DA\n",
    "    DA[jt] = optolog[jt,1]\n",
    "\n",
    "if je in omidx[0]:\n",
    "    je_om = np.where(je == omidx[0])[0]\n",
    "    # if the current state is omission of j, R(omission,j) = R(j,j)\n",
    "    R[je, omidx[je_om, 1]] = R[omidx[je_om, 1], omidx[je_om, 1]]\n",
    "    # omission state is an MCT\n",
    "    Imct[je] = True\n",
    "\n",
    "# This must come after opto s.t. Imct is not formed before opto applied\n",
    "Imct[je] |= DA[jt] + beta[je] > threshold\n",
    "\n",
    "# Update estimated reward value\n",
    "Rs[:, :, jt] = R\n",
    "if DA[jt] >= 0:\n",
    "    # For positive DA response, use standard update rule\n",
    "    R[:, je] += alpha_r * (eventlog[jt, 2] - R[:, je])\n",
    "else:\n",
    "    # For negative DA response, use overprediction update rule\n",
    "    if np.any(Iedge):\n",
    "        R[Iedge, je] -= alpha_r * R[Iedge, je] * ((Delta[Iedge, jt] / numevents[Iedge]) / np.sum((Delta[Iedge, jt] / numevents[Iedge])))\n",
    "    else:\n",
    "        R[:, je] = R[:, je]\n",
    "        \n",
    "print(DA)\n",
    "print(R)\n",
    "print(Rs)"
   ]
  },
  {
   "cell_type": "code",
   "execution_count": 99,
   "id": "27e7f55d-4e1a-4661-b2d3-626fb6c78c78",
   "metadata": {
    "tags": []
   },
   "outputs": [
    {
     "name": "stdout",
     "output_type": "stream",
     "text": [
      "0.1903881907567951\n",
      "[[0.         0.9905359  1.61919752 2.59754669 0.         0.\n",
      "  0.         0.        ]]\n",
      "[[0.         0.78334708 1.62952805 2.26531442 0.         0.\n",
      "  0.         0.        ]]\n",
      "135\n"
     ]
    }
   ],
   "source": [
    "# Update sample eligibility trace (Mi-)\n",
    "if jt < ntime:\n",
    "    # Time to sample baseline b/t events\n",
    "    subsamplingtime = samplingtime[(samplingtime >= eventlog[jt, 1]) & (samplingtime < eventlog[jt+1, 1])]\n",
    "\n",
    "    Ei[:, jt+1] = Ei[:, jt] * gamma[jt] ** samplinginterval\n",
    "    if subsamplingtime.size > 0:\n",
    "        for jjt in range(nextt, jt + 1):\n",
    "            if eventlog[jjt, 0] in omidx[0]:\n",
    "                if not omtrue[omidx[0] == eventlog[jjt, 0]]:\n",
    "                    continue\n",
    "            Ei[int(eventlog[jjt, 0]) - 1, jt+1] += gamma[jt] ** (subsamplingtime[0] - eventlog[jjt, 1])\n",
    "        nextt = jt + 1\n",
    "\n",
    "    # update alpha of sample eligibility trace\n",
    "    if exact_mean_or_not == 0:\n",
    "        if not isinstance(alpha, dict):\n",
    "            alphat = alpha\n",
    "        else:\n",
    "            alphat = np.exp(-alpha['exponent'] * (jt + 1)) * (alpha['init'] - alpha['min']) + alpha['min']\n",
    "    else:\n",
    "        alphat = 1 / (numsampling + 1)\n",
    "\n",
    "    # Update avg. sample eligibility trace\n",
    "    Mi[:, jt+1] = Mi[:, jt] + k * alphat * (Ei[:, jt+1] - Mi[:, jt])\n",
    "    for iit in range(1, len(subsamplingtime)):\n",
    "        iit += 1\n",
    "        if exact_mean_or_not == 0:\n",
    "            if not isinstance(alpha, dict):\n",
    "                alphat = alpha\n",
    "            else:\n",
    "                alphat = np.exp(-alpha['exponent'] * (jt + 1)) * (alpha['init'] - alpha['min']) + alpha['min']\n",
    "        else:\n",
    "            alphat = 1 / (numsampling + iit)\n",
    "\n",
    "        Ei[:, jt+1] *= gamma[jt] ** samplinginterval\n",
    "        Mi[:, jt+1] += k * alphat * (Ei[:, jt+1] - Mi[:, jt+1])\n",
    "    numsampling += len(subsamplingtime)\n",
    "    \n",
    "print(alphat)\n",
    "print(Ei)\n",
    "print(Mi)\n",
    "print(numsampling)"
   ]
  },
  {
   "cell_type": "code",
   "execution_count": 100,
   "id": "4234b3eb-bcb7-4d13-bc36-86f008cdeb52",
   "metadata": {
    "tags": []
   },
   "outputs": [
    {
     "data": {
      "text/plain": [
       "array([ 0.1140563 , -0.18818689, -0.64904152,  0.        ,  0.        ,\n",
       "        0.        ,  0.        ,  0.        ])"
      ]
     },
     "execution_count": 100,
     "metadata": {},
     "output_type": "execute_result"
    }
   ],
   "source": [
    "DA"
   ]
  },
  {
   "cell_type": "code",
   "execution_count": 16,
   "id": "f8802f18-4208-4fa5-9b16-44179960c94a",
   "metadata": {
    "tags": []
   },
   "outputs": [
    {
     "name": "stdout",
     "output_type": "stream",
     "text": [
      "0\n"
     ]
    }
   ],
   "source": [
    "for jjt in range(0, jt+1):\n",
    "    print(jjt)"
   ]
  },
  {
   "cell_type": "code",
   "execution_count": 77,
   "id": "8d5dfd36-463a-4530-82af-3ec660754c5e",
   "metadata": {
    "tags": []
   },
   "outputs": [
    {
     "data": {
      "text/plain": [
       "1"
      ]
     },
     "execution_count": 77,
     "metadata": {},
     "output_type": "execute_result"
    }
   ],
   "source": [
    "int(eventlog[jjt, 0])"
   ]
  },
  {
   "cell_type": "code",
   "execution_count": 21,
   "id": "f701700c-9cdb-40e8-a62e-eb7bdc2d730a",
   "metadata": {
    "tags": []
   },
   "outputs": [
    {
     "data": {
      "text/plain": [
       "0.0"
      ]
     },
     "execution_count": 21,
     "metadata": {},
     "output_type": "execute_result"
    }
   ],
   "source": [
    "Ei[int(eventlog[jjt, 0])-1, jt+1]"
   ]
  },
  {
   "cell_type": "code",
   "execution_count": 19,
   "id": "dcecd369-9833-462b-8348-ef6f1ffd4e7f",
   "metadata": {
    "tags": []
   },
   "outputs": [
    {
     "data": {
      "text/plain": [
       "array([[ 1.    ,  2.4589,  1.    ],\n",
       "       [ 1.    ,  3.6462,  1.    ],\n",
       "       [ 1.    , 28.4103,  1.    ],\n",
       "       [ 1.    , 29.4976,  1.    ],\n",
       "       [ 1.    , 34.9972,  1.    ],\n",
       "       [ 1.    , 62.927 ,  1.    ],\n",
       "       [ 1.    , 78.2671,  1.    ],\n",
       "       [ 1.    , 85.5094,  1.    ]])"
      ]
     },
     "execution_count": 19,
     "metadata": {},
     "output_type": "execute_result"
    }
   ],
   "source": [
    "eventlog"
   ]
  },
  {
   "cell_type": "code",
   "execution_count": 22,
   "id": "bbcbcb52-516d-4223-99d9-cbd73db2c439",
   "metadata": {
    "tags": []
   },
   "outputs": [
    {
     "data": {
      "text/plain": [
       "0.9988248576878122"
      ]
     },
     "execution_count": 22,
     "metadata": {},
     "output_type": "execute_result"
    }
   ],
   "source": [
    "gamma[jt] ** (subsamplingtime[0] - eventlog[jjt, 1])"
   ]
  },
  {
   "cell_type": "code",
   "execution_count": 23,
   "id": "c85e4ffe-1236-4c21-a3f1-7fd3a894c603",
   "metadata": {
    "tags": []
   },
   "outputs": [
    {
     "data": {
      "text/plain": [
       "array([2.6, 2.8, 3. , 3.2, 3.4, 3.6])"
      ]
     },
     "execution_count": 23,
     "metadata": {},
     "output_type": "execute_result"
    }
   ],
   "source": [
    "subsamplingtime"
   ]
  },
  {
   "cell_type": "code",
   "execution_count": 24,
   "id": "5c1c2981-5d41-4aa9-8e42-89685e55d2da",
   "metadata": {
    "tags": []
   },
   "outputs": [
    {
     "data": {
      "text/plain": [
       "2.4589"
      ]
     },
     "execution_count": 24,
     "metadata": {},
     "output_type": "execute_result"
    }
   ],
   "source": [
    "eventlog[jjt, 1]"
   ]
  },
  {
   "cell_type": "code",
   "execution_count": 25,
   "id": "37bc3553-35bc-4104-8813-337fec67c378",
   "metadata": {
    "tags": []
   },
   "outputs": [
    {
     "data": {
      "text/plain": [
       "array([[ 1.    ,  2.4589,  1.    ],\n",
       "       [ 1.    ,  3.6462,  1.    ],\n",
       "       [ 1.    , 28.4103,  1.    ],\n",
       "       [ 1.    , 29.4976,  1.    ],\n",
       "       [ 1.    , 34.9972,  1.    ],\n",
       "       [ 1.    , 62.927 ,  1.    ],\n",
       "       [ 1.    , 78.2671,  1.    ],\n",
       "       [ 1.    , 85.5094,  1.    ]])"
      ]
     },
     "execution_count": 25,
     "metadata": {},
     "output_type": "execute_result"
    }
   ],
   "source": [
    "eventlog"
   ]
  },
  {
   "cell_type": "code",
   "execution_count": null,
   "id": "d8baa9f6-bd65-47b7-9462-70144f1abead",
   "metadata": {},
   "outputs": [],
   "source": [
    "Ei[int(eventlog[jjt, 0]), jt+1] += gamma[jt] ** (subsamplingtime[0] - eventlog[jjt, 1])"
   ]
  },
  {
   "cell_type": "code",
   "execution_count": 10,
   "id": "515b7328-a9d8-4888-8418-837efc76f1e9",
   "metadata": {
    "tags": []
   },
   "outputs": [
    {
     "data": {
      "text/plain": [
       "0.991701292638876"
      ]
     },
     "execution_count": 10,
     "metadata": {},
     "output_type": "execute_result"
    }
   ],
   "source": [
    "gamma[jt]"
   ]
  },
  {
   "cell_type": "code",
   "execution_count": 11,
   "id": "dfe92588-0e08-480c-a1ac-7adf729fbf0e",
   "metadata": {
    "tags": []
   },
   "outputs": [
    {
     "data": {
      "text/plain": [
       "0.2"
      ]
     },
     "execution_count": 11,
     "metadata": {},
     "output_type": "execute_result"
    }
   ],
   "source": [
    "samplinginterval"
   ]
  },
  {
   "cell_type": "code",
   "execution_count": 15,
   "id": "bdc7a229-3c92-42da-b433-e50b2444cc30",
   "metadata": {
    "tags": []
   },
   "outputs": [
    {
     "data": {
      "text/plain": [
       "0.9983347214509387"
      ]
     },
     "execution_count": 15,
     "metadata": {},
     "output_type": "execute_result"
    }
   ],
   "source": [
    "gamma[jt] ** samplinginterval"
   ]
  },
  {
   "cell_type": "code",
   "execution_count": 12,
   "id": "2883c5f7-44e4-41a2-976f-884c67335a3f",
   "metadata": {
    "tags": []
   },
   "outputs": [
    {
     "data": {
      "text/plain": [
       "array([[0., 0., 0., 0., 0., 0., 0., 0.]])"
      ]
     },
     "execution_count": 12,
     "metadata": {},
     "output_type": "execute_result"
    }
   ],
   "source": [
    "Ei"
   ]
  },
  {
   "cell_type": "code",
   "execution_count": null,
   "id": "5d557eed-54b3-4f69-a23f-956d1d68d0f5",
   "metadata": {},
   "outputs": [],
   "source": []
  }
 ],
 "metadata": {
  "kernelspec": {
   "display_name": "Python 3 (ipykernel)",
   "language": "python",
   "name": "python3"
  },
  "language_info": {
   "codemirror_mode": {
    "name": "ipython",
    "version": 3
   },
   "file_extension": ".py",
   "mimetype": "text/x-python",
   "name": "python",
   "nbconvert_exporter": "python",
   "pygments_lexer": "ipython3",
   "version": "3.8.10"
  }
 },
 "nbformat": 4,
 "nbformat_minor": 5
}
