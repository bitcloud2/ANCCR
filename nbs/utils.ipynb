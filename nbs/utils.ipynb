{
 "cells": [
  {
   "cell_type": "markdown",
   "id": "32283574-42e8-4525-9c32-292ebc735706",
   "metadata": {},
   "source": [
    "# Port ANCCR function to Python\n",
    "\n",
    "Utilizing `calculateANCCR` function in `ANCCR.functions.calculateANCCR.m`."
   ]
  },
  {
   "cell_type": "code",
   "execution_count": 1,
   "id": "5fc14747-ea0f-4412-8fe1-dcc2cbc14a55",
   "metadata": {
    "tags": []
   },
   "outputs": [],
   "source": [
    "from typing import Dict, List\n",
    "\n",
    "import numpy as np"
   ]
  },
  {
   "cell_type": "code",
   "execution_count": 2,
   "id": "391c68c6-2591-47bb-91a6-e6520a2fd48e",
   "metadata": {
    "tags": []
   },
   "outputs": [],
   "source": [
    "meanITI = 12\n",
    "numrewards = 500\n",
    "\n",
    "# anccr model parameters\n",
    "samplingperiod = 0.2\n",
    "alpha_anccr = {}\n",
    "alpha_anccr[\"exponent\"] = 0.1\n",
    "alpha_anccr[\"init\"] = 0.25\n",
    "alpha_anccr[\"min\"] = 0.02\n",
    "alpha_r = 0.2\n",
    "w = 0.5          \n",
    "k = 1\n",
    "minimumrate = 10 ** -3\n",
    "maximumjitter = 0.1\n",
    "beta = np.array([[1]])  # Check what beta does in calculate_anccr\n",
    "threshold = 0.6\n",
    "T = meanITI*10  # have very large T\n",
    "\n",
    "nIter = 100\n",
    "rwrsp = np.zeros((numrewards,nIter))"
   ]
  },
  {
   "cell_type": "code",
   "execution_count": 3,
   "id": "c4aae4f9-9245-4a97-a7d9-4940afed463b",
   "metadata": {
    "tags": []
   },
   "outputs": [],
   "source": [
    "def legacy_simulate_background_reward(numrewards, rewITI, rewlabel, rewmag, truncation):\n",
    "    \"\"\"\n",
    "    Output an eventlog with exclusively background\n",
    "    rewards. Inputs may be scalar or arrays depending on the number of unique\n",
    "    background rewards specified.\n",
    "    \"\"\"\n",
    "    # Set upper limit on ITI (only used if truncation == 1)\n",
    "    maxrewITI = 3 * rewITI\n",
    "    # Initialize empty eventlog\n",
    "    eventlog = np.zeros((numrewards,3))\n",
    "    # Keep track of reward indices\n",
    "    running_idx = 0\n",
    "    # If multiple unique rewards, loop instance for each type\n",
    "    for irw in range(1, rewlabel+1):\n",
    "        # Start simulation time at 0\n",
    "        running_time = 0\n",
    "        # For each reward (irw) simulate 'numrewards' timesteps\n",
    "        for i in range(1, numrewards+1):\n",
    "            # Generate exp. dist. timestep for current reward instance\n",
    "            new_ts = round(np.random.exponential(rewITI), 4)\n",
    "            if truncation:  # If capping ITI at maxITI\n",
    "                while new_ts > maxrewITI:\n",
    "                    # Simulate a new ts if maxITI is exceeded\n",
    "                    new_ts = round(np.random.exponential(rewITI), 4)\n",
    "            # Update eventlog\n",
    "            eventlog[running_idx, 0] = rewlabel  # Column 1 = label\n",
    "            eventlog[running_idx, 1] = new_ts + running_time  # \" 2 = ts\n",
    "            eventlog[running_idx, 2] = rewmag  # \" 3 = rew. magnitude\n",
    "            running_idx = running_idx + 1\n",
    "            running_time = running_time + new_ts  # Update running time\n",
    "    \n",
    "    # Resort eventlog by timestamp\n",
    "    eventlog = eventlog[eventlog[:, 1].argsort()]\n",
    "    \n",
    "    # Once any reward reaches to numrewards, finish the session\n",
    "    # lasttrial = min(cellfun(@(x) find(eventlog(:,1)==x,1,'last'),num2cell(rewlabel)));\n",
    "    # eventlog(lasttrial+1:end,:) = [];\n",
    "    \n",
    "    return eventlog"
   ]
  },
  {
   "cell_type": "code",
   "execution_count": 3,
   "id": "bb70f7f2-4428-4d75-9b08-045876fdd7d4",
   "metadata": {
    "tags": []
   },
   "outputs": [],
   "source": [
    "def simulate_background_reward(numrewards, rewITI, rewlabel, rewmag, truncation):\n",
    "    \"\"\"\n",
    "    Output an eventlog with exclusively background\n",
    "    rewards. Inputs may be scalar or arrays depending on the number of unique\n",
    "    background rewards specified.\n",
    "    \"\"\"\n",
    "    labels = np.array([rewlabel] * numrewards)\n",
    "    rewards = np.array([rewmag] * numrewards)\n",
    "    ts = np.random.exponential(rewITI, numrewards).cumsum().round(4)\n",
    "    eventlog = np.array([labels, ts, rewards]).T\n",
    "    \n",
    "    return eventlog"
   ]
  },
  {
   "cell_type": "code",
   "execution_count": 172,
   "id": "e693d4fe-4838-46fd-ad69-b8503c11fcd3",
   "metadata": {},
   "outputs": [],
   "source": [
    "def test_simulate_background_reward():\n",
    "    expected = np.array([\n",
    "        [1] * 10,\n",
    "        [\n",
    "            2.4589,\n",
    "            3.6462,\n",
    "            28.4103,\n",
    "            29.4976,\n",
    "            34.9972,\n",
    "            62.9270,\n",
    "            78.2671,\n",
    "            85.5094,\n",
    "            86.0305,\n",
    "            86.4594,\n",
    "        ],\n",
    "        [1] * 10]\n",
    "    ).T\n",
    "    actual = simulate_background_reward(10, 12, 1, 1, 0)\n",
    "    \n",
    "    assert expected.shape == actual.shape, f\"{actual.shape} is not {expected.shape}\"\n",
    "    \n",
    "test_simulate_background_reward()"
   ]
  },
  {
   "cell_type": "code",
   "execution_count": 4,
   "id": "d98c2237-ac8e-4c1f-85e9-04ce21bbb73b",
   "metadata": {
    "tags": []
   },
   "outputs": [
    {
     "data": {
      "text/plain": [
       "array([[ 1.    ,  8.0982,  1.    ],\n",
       "       [ 1.    , 19.6972,  1.    ],\n",
       "       [ 1.    , 22.9108,  1.    ],\n",
       "       [ 1.    , 34.2242,  1.    ],\n",
       "       [ 1.    , 83.3021,  1.    ]])"
      ]
     },
     "execution_count": 4,
     "metadata": {},
     "output_type": "execute_result"
    }
   ],
   "source": [
    "eventlog = simulate_background_reward(5, 12, 1, 1, 0)\n",
    "eventlog"
   ]
  },
  {
   "cell_type": "code",
   "execution_count": 5,
   "id": "ff068e22-2d30-42e2-8a86-c3310e16a3d1",
   "metadata": {
    "tags": []
   },
   "outputs": [
    {
     "data": {
      "text/plain": [
       "array([[ 1.    ,  9.0982,  1.    ],\n",
       "       [ 1.    , 20.6972,  1.    ],\n",
       "       [ 1.    , 23.9108,  1.    ],\n",
       "       [ 1.    , 35.2242,  1.    ],\n",
       "       [ 1.    , 84.3021,  1.    ]])"
      ]
     },
     "execution_count": 5,
     "metadata": {},
     "output_type": "execute_result"
    }
   ],
   "source": [
    "eventlog[:,1] += 1\n",
    "eventlog"
   ]
  },
  {
   "cell_type": "markdown",
   "id": "23908d6e-ad0a-4d8b-9cd0-bc85e4fbb1fb",
   "metadata": {},
   "source": [
    "# Bing Chat attempt at porting calculate_anccr"
   ]
  },
  {
   "cell_type": "markdown",
   "id": "a4aba885-7185-4086-b616-87e3f4ca2d92",
   "metadata": {},
   "source": [
    "This code performs several checks on the input arguments and sets default values if they are not provided or are not valid. It also processes the input data in the variable eventlog to handle cases where more than one event happens at the same time. The code then calculates several variables such as ntime, nstimuli, samplingtime, and gamma based on the input data and arguments.\n",
    "\n",
    "Note that this is just an example of how the provided MATLAB code could be translated into Python. The actual implementation may vary depending on the specific details of the function and its intended behavior."
   ]
  },
  {
   "cell_type": "code",
   "execution_count": 122,
   "id": "d0664392-3bb4-44d2-acac-949fe7c7ef65",
   "metadata": {
    "tags": []
   },
   "outputs": [],
   "source": [
    "def calculate_anccr(\n",
    "    eventlog: np.array,\n",
    "    T: int,\n",
    "    alpha: dict,\n",
    "    k: int,\n",
    "    samplinginterval: float,\n",
    "    w: float,\n",
    "    threshold: float,\n",
    "    minimumrate: float,\n",
    "    beta: np.array,\n",
    "    alpha_r: float,\n",
    "    maximumjitter: float,\n",
    "    optolog=None,\n",
    "    omidx=[np.nan, np.nan],\n",
    "    exact_mean_or_not=0,\n",
    "    nevent_for_edge=0\n",
    ") -> np.array:\n",
    "    \n",
    "    if alpha_r > 1:\n",
    "        alpha_r = 1\n",
    "\n",
    "    if optolog is None or np.isnan(optolog).any():\n",
    "        optolog = np.zeros((eventlog.shape[0], 2))\n",
    "\n",
    "    if omidx is None or np.isnan(omidx).any():\n",
    "        # First entry is omission index, second entry is corresponding reward index\n",
    "        # omidx = [np.nan, np.nan]\n",
    "        omidx = np.array([[np.nan], [np.nan]])\n",
    "\n",
    "    # if exact_mean_or_not=1, calculate exact mean for Mij instead of using alpha\n",
    "    exact_mean_or_not = exact_mean_or_not\n",
    "\n",
    "    # if nevent_for_edge>0, use averaged NC for last nevent to calculate edge\n",
    "    nevent_for_edge = nevent_for_edge\n",
    "\n",
    "    # omtrue: whether the omission state will be used or not in the calculation of ANCCR\n",
    "    omtrue = np.zeros((omidx.shape[1],), dtype=bool)\n",
    "    \n",
    "    uniquetime = np.unique(eventlog[:, 1])\n",
    "\n",
    "    # if more than one event happens at the same time, assume random perceptual delay between them\n",
    "    for jt in range(len(uniquetime)):\n",
    "        if sum(eventlog[:, 1] == uniquetime[jt]) == 1:\n",
    "            continue\n",
    "        idx = np.where(eventlog[:, 1] == uniquetime[jt])[0]\n",
    "        eventlog[idx[1:], 1] += np.random.randn(len(idx) - 1) * maximumjitter\n",
    "\n",
    "    eventlog = eventlog[eventlog[:, 1].argsort()]\n",
    "    \n",
    "    ntime = eventlog.shape[0]\n",
    "    \n",
    "    nstimuli = len(np.unique(eventlog[:, 0]))\n",
    "    \n",
    "    samplingtime = np.arange(0, eventlog[-1, 1], samplinginterval)\n",
    "    \n",
    "    # if T is a vector, use T(jt) for the calculation at time jt. otherwise, use fixed T\n",
    "    if isinstance(T, (int, float)):\n",
    "        T = np.full((eventlog.shape[0],), T)\n",
    "    \n",
    "    gamma = np.exp(-1 / T)\n",
    "    \n",
    "    # Initialize model values\n",
    "    Eij = np.zeros((nstimuli, ntime))\n",
    "    Ei = np.zeros((nstimuli, ntime+1))\n",
    "    Mi = np.zeros((nstimuli, ntime+1))\n",
    "    Delta = np.zeros((nstimuli, ntime))\n",
    "    \n",
    "    Mij = np.zeros((nstimuli, nstimuli, ntime))\n",
    "    PRC = np.zeros((nstimuli, nstimuli, ntime))\n",
    "    SRC = np.zeros((nstimuli, nstimuli, ntime))\n",
    "    NC = np.zeros((nstimuli, nstimuli, ntime))\n",
    "    ANCCR = np.zeros((nstimuli, nstimuli, ntime))\n",
    "    Rs = np.zeros((nstimuli, nstimuli, ntime))\n",
    "    \n",
    "    R = np.zeros((nstimuli, nstimuli))\n",
    "    \n",
    "    numevents = np.zeros((nstimuli,))\n",
    "    \n",
    "    DA = np.zeros((ntime,))\n",
    "    \n",
    "    beta = beta[np.unique(eventlog[:, 0]).astype(int)[0] - 1]\n",
    "    \n",
    "    Imct = beta > threshold\n",
    "    \n",
    "    nextt = 0\n",
    "    numsampling = 0\n",
    "    \n",
    "    for jt in range(ntime):\n",
    "        skip = False\n",
    "        je = int(eventlog[jt, 0]) - 1\n",
    "\n",
    "        if je in omidx[0]:\n",
    "            if not omtrue[omidx[0] == je]:\n",
    "                Delta[:, jt] = Delta[:, jt - 1]\n",
    "                Eij[:, jt] = Eij[:, jt - 1]\n",
    "                Mij[:, :, jt] = Mij[:, :, jt - 1]\n",
    "                PRC[:, :, jt] = PRC[:, :, jt - 1]\n",
    "                SRC[:, :, jt] = SRC[:, :, jt - 1]\n",
    "                NC[:, :, jt] = NC[:, :, jt - 1]\n",
    "                skip = True\n",
    "                \n",
    "        if not skip:\n",
    "            numevents[je] += 1\n",
    "            if exact_mean_or_not == 0:\n",
    "                if not isinstance(alpha, dict):\n",
    "                    alphat = alpha\n",
    "                else:\n",
    "                    # if alpha is structure, alpha exponentially decreases from alpha.init to alpha.min w/ alpha.exponent decrease constant\n",
    "                    alphat = np.exp(-alpha['exponent'] * (jt + 1)) * (alpha['init'] - alpha['min']) + alpha['min']\n",
    "            else:\n",
    "                alphat = 1 / numevents[je]\n",
    "\n",
    "            if jt > 0:\n",
    "                # update delta w/prev value\n",
    "                Delta[:, jt] = Delta[:, jt - 1] * gamma[jt] ** (eventlog[jt, 1] - eventlog[jt - 1, 1])\n",
    "                # update instantaneous elig. trace w/prev value\n",
    "                Eij[:, jt] = Eij[:, jt - 1] * gamma[jt] ** (eventlog[jt, 1] - eventlog[jt - 1, 1])\n",
    "                # update average elig. trace w/prev value\n",
    "                Mij[:, :, jt] = Mij[:, :, jt - 1]\n",
    "                # update anccr w/prev value\n",
    "                ANCCR[~np.isin(np.arange(nstimuli), je), :, jt] = ANCCR[~np.isin(np.arange(nstimuli), je), :, jt - 1]\n",
    "\n",
    "            # Indicator for whether event has recently happened\n",
    "            # Delta resets to one at every instance of event w/o cumulative sum\n",
    "            Delta[je, jt] = 1\n",
    "            # Increment inst. elig. trace by 1 for event that occurred\n",
    "            Eij[je, jt] += 1\n",
    "            # Update avg. elig. trace\n",
    "            Mij[:, je, jt] += alphat * (Eij[:, jt] - Mij[:, je, jt]) * Imct[je]\n",
    "\n",
    "            # Subtract baseline elig. from avg. elig. to find successor rep.\n",
    "            PRC[:, :, jt] = Mij[:, :, jt] - np.tile(Mi[:, jt], (nstimuli, 1)).T\n",
    "            # Calculate predecessor rep from successor rep.\n",
    "            SRC[:, :, jt] = PRC[:, :, jt] * np.tile(Mi[:, jt], (nstimuli, 1)) / np.tile(Mi[:, jt], (nstimuli, 1)).T\n",
    "            # Zero out values that may approach -Inf\n",
    "            belowminrate = Mi[:, jt] / T[jt] < minimumrate\n",
    "            SRC[belowminrate, :, jt] = 0\n",
    "            \n",
    "            # something to make sure only calculating contingency and R after experiencing first outcome\n",
    "            PRC[numevents == 0, :, jt] = 0\n",
    "            PRC[:, numevents == 0, jt] = 0\n",
    "            SRC[numevents == 0, :, jt] = 0\n",
    "            SRC[:, numevents == 0, jt] = 0\n",
    "            R[:, numevents == 0] = 0\n",
    "            R[numevents == 0, :] = 0\n",
    "\n",
    "            # Calculate net contingency, weighted sum of SRC/PRC\n",
    "            NC[:, :, jt] = w * SRC[:, :, jt] + (1 - w) * PRC[:, :, jt]\n",
    "\n",
    "            # Indicator for whether an event is associated with another event\n",
    "            Iedge = np.mean(NC[:, je, max([0, jt - nevent_for_edge]):jt+1], axis=1) > threshold\n",
    "            Iedge[je] = False\n",
    "\n",
    "            # once the cause of reward state is revealed, omission state of that reward state can be used for calculation of ANCCR. Before that, omission state is ignored\n",
    "            if je in omidx[1] and np.sum(Iedge) > 0:\n",
    "                omtrue[omidx[1] == je] |= True\n",
    "\n",
    "            # calculate ANCCR for every event\n",
    "            # Rjj is externally driven; the magnitude of stimulus an animal just experienced\n",
    "            R[je, je] = eventlog[jt, 2]\n",
    "\n",
    "            for ke in range(nstimuli):\n",
    "                # Update edge indicator\n",
    "                Iedge_ke = np.mean(NC[:, ke, max([0, jt - nevent_for_edge]):jt+1], axis=1) > threshold\n",
    "                Iedge_ke[ke] = False\n",
    "                # update ANCCR\n",
    "                ANCCR[ke, :, jt] = NC[ke, :, jt] * R[ke, :] - np.sum(ANCCR[:, :, jt] * Delta[:, jt].reshape(-1,1) * np.tile(Iedge_ke.reshape(-1,1), (1,nstimuli)), axis=0)\n",
    "\n",
    "            if not (optolog[jt, 0] == 1): # If target is not inhibited, normal DA\n",
    "                DA[jt] = np.sum(ANCCR[je,:,jt]*Imct)\n",
    "            else: # If target is inhibited, replace DA\n",
    "                DA[jt] = optolog[jt,1]\n",
    "\n",
    "            if je in omidx[0]:\n",
    "                je_om = np.where(je == omidx[0])[0]\n",
    "                # if the current state is omission of j, R(omission,j) = R(j,j)\n",
    "                R[je, omidx[je_om, 1]] = R[omidx[je_om, 1], omidx[je_om, 1]]\n",
    "                # omission state is an MCT\n",
    "                Imct[je] = True\n",
    "\n",
    "            # This must come after opto s.t. Imct is not formed before opto applied\n",
    "            Imct[je] |= DA[jt] + beta[je] > threshold\n",
    "\n",
    "            # Update estimated reward value\n",
    "            Rs[:, :, jt] = R\n",
    "            if DA[jt] >= 0:\n",
    "                # For positive DA response, use standard update rule\n",
    "                R[:, je] += alpha_r * (eventlog[jt, 2] - R[:, je])\n",
    "            else:\n",
    "                # For negative DA response, use overprediction update rule\n",
    "                if np.any(Iedge):\n",
    "                    R[Iedge, je] -= alpha_r * R[Iedge, je] * ((Delta[Iedge, jt] / numevents[Iedge]) / np.sum((Delta[Iedge, jt] / numevents[Iedge])))\n",
    "                else:\n",
    "                    R[:, je] = R[:, je]\n",
    "        \n",
    "        # Update sample eligibility trace (Mi-)\n",
    "        if jt < ntime:\n",
    "            # Time to sample baseline b/t events\n",
    "            if jt + 1 < len(eventlog):\n",
    "                subsamplingtime = samplingtime[(samplingtime >= eventlog[jt, 1]) & (samplingtime < eventlog[jt+1, 1])]\n",
    "            else:\n",
    "                subsamplingtime = samplingtime[(samplingtime >= eventlog[jt, 1])]\n",
    "\n",
    "            Ei[:, jt+1] = Ei[:, jt] * gamma[jt] ** samplinginterval\n",
    "            if subsamplingtime.size > 0:\n",
    "                for jjt in range(nextt, jt + 1):\n",
    "                    if eventlog[jjt, 0] in omidx[0]:\n",
    "                        if not omtrue[omidx[0, 0] == eventlog[jjt, 0]]:\n",
    "                            continue\n",
    "                    Ei[int(eventlog[jjt, 0]) - 1, jt+1] += gamma[jt] ** (subsamplingtime[0] - eventlog[jjt, 1])\n",
    "                nextt = jt + 1\n",
    "\n",
    "            # update alpha of sample eligibility trace\n",
    "            if exact_mean_or_not == 0:\n",
    "                if not isinstance(alpha, dict):\n",
    "                    alphat = alpha\n",
    "                else:\n",
    "                    alphat = np.exp(-alpha['exponent'] * (jt + 1)) * (alpha['init'] - alpha['min']) + alpha['min']\n",
    "            else:\n",
    "                alphat = 1 / (numsampling + 1)\n",
    "\n",
    "            # Update avg. sample eligibility trace\n",
    "            Mi[:, jt+1] = Mi[:, jt] + k * alphat * (Ei[:, jt+1] - Mi[:, jt])\n",
    "            for iit in range(1, len(subsamplingtime)):\n",
    "                iit += 1\n",
    "                if exact_mean_or_not == 0:\n",
    "                    if not isinstance(alpha, dict):\n",
    "                        alphat = alpha\n",
    "                    else:\n",
    "                        alphat = np.exp(-alpha['exponent'] * (jt + 1)) * (alpha['init'] - alpha['min']) + alpha['min']\n",
    "                else:\n",
    "                    alphat = 1 / (numsampling + iit)\n",
    "\n",
    "                Ei[:, jt+1] *= gamma[jt] ** samplinginterval\n",
    "                Mi[:, jt+1] += k * alphat * (Ei[:, jt+1] - Mi[:, jt+1])\n",
    "            numsampling += len(subsamplingtime)\n",
    "            \n",
    "    return DA,ANCCR,PRC,SRC,NC,Rs,Delta,Mij,Mi\n",
    "    "
   ]
  },
  {
   "cell_type": "code",
   "execution_count": 7,
   "id": "c6ac32a2-0640-4b85-8210-2c8e576ad141",
   "metadata": {
    "tags": []
   },
   "outputs": [],
   "source": [
    "eventlog = simulate_background_reward(numrewards, meanITI, 1, 1, 0)\n",
    "eventlog[:,1] += 1"
   ]
  },
  {
   "cell_type": "code",
   "execution_count": 8,
   "id": "24de0e22-a484-4c06-a0c6-ae34483dda29",
   "metadata": {
    "tags": []
   },
   "outputs": [
    {
     "data": {
      "text/plain": [
       "array([[  1.    ,  14.5977,   1.    ],\n",
       "       [  1.    ,  26.4384,   1.    ],\n",
       "       [  1.    ,  50.1027,   1.    ],\n",
       "       [  1.    ,  50.1257,   1.    ],\n",
       "       [  1.    ,  51.8651,   1.    ],\n",
       "       [  1.    ,  52.2581,   1.    ],\n",
       "       [  1.    ,  55.5945,   1.    ],\n",
       "       [  1.    ,  59.4413,   1.    ],\n",
       "       [  1.    ,  86.5989,   1.    ],\n",
       "       [  1.    , 107.2565,   1.    ]])"
      ]
     },
     "execution_count": 8,
     "metadata": {},
     "output_type": "execute_result"
    }
   ],
   "source": [
    "eventlog[:10,]"
   ]
  },
  {
   "cell_type": "code",
   "execution_count": 9,
   "id": "12d84356-d9c6-4412-af95-01f6f28d97ed",
   "metadata": {
    "tags": []
   },
   "outputs": [],
   "source": [
    "meanITI = 12\n",
    "numrewards = 8  # 500\n",
    "\n",
    "# anccr model parameters\n",
    "samplingperiod = 0.2\n",
    "alpha_anccr = {}\n",
    "alpha_anccr[\"exponent\"] = 0.1\n",
    "alpha_anccr[\"init\"] = 0.25\n",
    "alpha_anccr[\"min\"] = 0.02\n",
    "alpha_r = 0.2\n",
    "w = 0.5          \n",
    "k = 1\n",
    "minimumrate = 10 ** -3\n",
    "maximumjitter = 0.1\n",
    "beta = np.array([[1]])  # Check what beta does in calculate_anccr\n",
    "threshold = 0.6\n",
    "T = meanITI*10  # have very large T\n",
    "\n",
    "nIter = 100\n",
    "rwrsp = np.zeros((numrewards,nIter))"
   ]
  },
  {
   "cell_type": "code",
   "execution_count": 10,
   "id": "1cb065cc-9099-45a5-b994-0b0ae375f82d",
   "metadata": {
    "tags": []
   },
   "outputs": [
    {
     "data": {
      "text/plain": [
       "array([[ 1.    ,  2.4589,  1.    ],\n",
       "       [ 1.    ,  3.6462,  1.    ],\n",
       "       [ 1.    , 28.4103,  1.    ],\n",
       "       [ 1.    , 29.4976,  1.    ],\n",
       "       [ 1.    , 34.9972,  1.    ],\n",
       "       [ 1.    , 62.927 ,  1.    ],\n",
       "       [ 1.    , 78.2671,  1.    ],\n",
       "       [ 1.    , 85.5094,  1.    ]])"
      ]
     },
     "execution_count": 10,
     "metadata": {},
     "output_type": "execute_result"
    }
   ],
   "source": [
    "eventlog = np.array([\n",
    "    [1.0, 2.4589, 1.0],\n",
    "    [1.0, 3.6462, 1.0],\n",
    "    [1, 28.4103, 1.0],\n",
    "    [1, 29.4976, 1.0],\n",
    "    [1, 34.9972, 1.0],\n",
    "    [1, 62.9270, 1.0],\n",
    "    [1, 78.2671, 1.0],\n",
    "    [1, 85.5094, 1.0],\n",
    "])\n",
    "eventlog"
   ]
  },
  {
   "cell_type": "code",
   "execution_count": 11,
   "id": "2fd4ab10-d0bd-489b-98d0-e70f92b865f2",
   "metadata": {
    "tags": []
   },
   "outputs": [
    {
     "name": "stderr",
     "output_type": "stream",
     "text": [
      "/tmp/ipykernel_25/1831270426.py:134: RuntimeWarning: invalid value encountered in true_divide\n",
      "  SRC[:, :, jt] = PRC[:, :, jt] * np.tile(Mi[:, jt], (nstimuli, 1)) / np.tile(Mi[:, jt], (nstimuli, 1)).T\n"
     ]
    }
   ],
   "source": [
    "DA,ANCCR,PRC,SRC,NC,Rs,Delta,Mij,Mi = calculate_anccr(eventlog, T, alpha_anccr, k, samplingperiod, w, threshold,\n",
    "                   minimumrate, beta, alpha_r, maximumjitter)"
   ]
  },
  {
   "cell_type": "code",
   "execution_count": 12,
   "id": "a96ace9f-05e2-40e6-a4ae-eba4c6201c5b",
   "metadata": {
    "tags": []
   },
   "outputs": [
    {
     "data": {
      "text/plain": [
       "array([ 0.1141, -0.1882, -0.649 , -0.8294, -1.5455, -1.2542, -1.3596,\n",
       "       -1.7033])"
      ]
     },
     "execution_count": 12,
     "metadata": {},
     "output_type": "execute_result"
    }
   ],
   "source": [
    "DA.round(4)"
   ]
  },
  {
   "cell_type": "code",
   "execution_count": 27,
   "id": "a727bdb3-082a-4fd8-8db7-e2133521c3b2",
   "metadata": {
    "tags": []
   },
   "outputs": [
    {
     "name": "stdout",
     "output_type": "stream",
     "text": [
      "0\n"
     ]
    },
    {
     "name": "stderr",
     "output_type": "stream",
     "text": [
      "/tmp/ipykernel_26/1831270426.py:134: RuntimeWarning: invalid value encountered in true_divide\n",
      "  SRC[:, :, jt] = PRC[:, :, jt] * np.tile(Mi[:, jt], (nstimuli, 1)) / np.tile(Mi[:, jt], (nstimuli, 1)).T\n"
     ]
    },
    {
     "name": "stdout",
     "output_type": "stream",
     "text": [
      "10\n",
      "20\n",
      "30\n",
      "40\n",
      "50\n",
      "60\n",
      "70\n",
      "80\n",
      "90\n"
     ]
    }
   ],
   "source": [
    "# simulation\n",
    "for iiter in range(nIter):\n",
    "    if iiter % 10 == 0: print(iiter)\n",
    "    eventlog = simulate_background_reward(numrewards, meanITI, 1, 1, 0)\n",
    "    eventlog[:,1] += 1\n",
    "    \n",
    "    DA,ANCCR,PRC,SRC,NC,Rs,Delta,Mij,Mi = calculate_anccr(eventlog, T, alpha_anccr, k, samplingperiod, w, threshold,\n",
    "                   minimumrate, beta, alpha_r, maximumjitter)\n",
    "    eventtimeline = eventlog[0:numrewards,0]\n",
    "    \n",
    "    rwrsp[:,iiter] = DA\n"
   ]
  },
  {
   "cell_type": "code",
   "execution_count": 28,
   "id": "cee72342-b340-44a2-93d6-9637c08ee6e0",
   "metadata": {
    "tags": []
   },
   "outputs": [
    {
     "data": {
      "image/png": "[encoded data removed]",
      "text/plain": [
       "<Figure size 432x288 with 1 Axes>"
      ]
     },
     "metadata": {
      "needs_background": "light"
     },
     "output_type": "display_data"
    }
   ],
   "source": [
    "# FigS8J\n",
    "import matplotlib.pyplot as plt\n",
    "\n",
    "fHandle = plt.figure()\n",
    "\n",
    "plt.plot(\n",
    "    np.cumsum(rwrsp,axis=0) / np.tile(np.sum(rwrsp,axis=0), (numrewards,1)),\n",
    "    color=[0.6,0.6,0.6],\n",
    "    linewidth=0.35\n",
    ")\n",
    "plt.plot(np.mean(np.cumsum(rwrsp,axis=0)/np.tile(np.sum(rwrsp,axis=0),(numrewards,1)),axis=1),\n",
    "         color='k',\n",
    "         linewidth=1\n",
    ")\n",
    "plt.ylim([-1.3, 1.5])\n",
    "plt.xlim([0, numrewards])\n",
    "plt.xlabel('Trial')\n",
    "plt.ylabel('Normalized\\ncumsum (predicted DA)');\n",
    "# plt.gca().set(xticklabels=[0,200,400],yticklabels=[-1,0,1])"
   ]
  },
  {
   "cell_type": "code",
   "execution_count": null,
   "id": "34d308f0-e1c3-42d5-9836-93f516eb12f0",
   "metadata": {},
   "outputs": [],
   "source": [
    "DA,ANCCR,PRC,SRC,NC,Rs,Delta,Mij,Mi"
   ]
  },
  {
   "cell_type": "code",
   "execution_count": 29,
   "id": "adaede57-6cbe-485b-ab5b-0a0f74da938e",
   "metadata": {
    "tags": []
   },
   "outputs": [
    {
     "data": {
      "text/plain": [
       "True"
      ]
     },
     "execution_count": 29,
     "metadata": {},
     "output_type": "execute_result"
    }
   ],
   "source": [
    "(DA == ANCCR).all()"
   ]
  },
  {
   "cell_type": "code",
   "execution_count": 30,
   "id": "45067eb8-c1cd-4903-ae87-7f00c3547d5f",
   "metadata": {
    "tags": []
   },
   "outputs": [
    {
     "data": {
      "text/plain": [
       "True"
      ]
     },
     "execution_count": 30,
     "metadata": {},
     "output_type": "execute_result"
    }
   ],
   "source": [
    "(NC == ANCCR).all()"
   ]
  },
  {
   "cell_type": "code",
   "execution_count": 46,
   "id": "33a0c1db-f138-43d9-b5f8-4931b86dc9de",
   "metadata": {
    "tags": []
   },
   "outputs": [
    {
     "data": {
      "text/plain": [
       "True"
      ]
     },
     "execution_count": 46,
     "metadata": {},
     "output_type": "execute_result"
    }
   ],
   "source": [
    "(PRC[:, :, 1:100].round(4) == SRC[:, :, 1:100].round(4)).all()"
   ]
  },
  {
   "cell_type": "code",
   "execution_count": 17,
   "id": "0252369b-7ce7-4106-9981-96c09bdf5000",
   "metadata": {
    "tags": []
   },
   "outputs": [
    {
     "data": {
      "text/plain": [
       "array([[0.78334708],\n",
       "       [0.78334708]])"
      ]
     },
     "execution_count": 17,
     "metadata": {},
     "output_type": "execute_result"
    }
   ],
   "source": [
    "np.tile(Mi[:, 1], (2, 1))"
   ]
  },
  {
   "cell_type": "code",
   "execution_count": 18,
   "id": "91768852-67ab-4890-ace0-54375efd81aa",
   "metadata": {
    "tags": []
   },
   "outputs": [
    {
     "data": {
      "text/plain": [
       "array([[0.78334708, 0.78334708]])"
      ]
     },
     "execution_count": 18,
     "metadata": {},
     "output_type": "execute_result"
    }
   ],
   "source": [
    "np.tile(Mi[:, 1], (2, 1)).T"
   ]
  },
  {
   "cell_type": "code",
   "execution_count": 19,
   "id": "a5657b1c-f4ff-4133-b9d0-e7ec8f67d89a",
   "metadata": {
    "tags": []
   },
   "outputs": [
    {
     "data": {
      "text/plain": [
       "array([[1., 1.],\n",
       "       [1., 1.]])"
      ]
     },
     "execution_count": 19,
     "metadata": {},
     "output_type": "execute_result"
    }
   ],
   "source": [
    "np.tile(Mi[:, 1], (2, 1)) / np.tile(Mi[:, 1], (2, 1)).T"
   ]
  },
  {
   "cell_type": "code",
   "execution_count": 21,
   "id": "70e9d2f3-173a-4504-bd39-1a42145aed9d",
   "metadata": {
    "tags": []
   },
   "outputs": [
    {
     "data": {
      "text/plain": [
       "0.6"
      ]
     },
     "execution_count": 21,
     "metadata": {},
     "output_type": "execute_result"
    }
   ],
   "source": [
    "threshold"
   ]
  },
  {
   "cell_type": "code",
   "execution_count": 26,
   "id": "8ced1927-5324-4ccb-a2a7-7c5c08364792",
   "metadata": {
    "tags": []
   },
   "outputs": [
    {
     "data": {
      "text/plain": [
       "array([False])"
      ]
     },
     "execution_count": 26,
     "metadata": {},
     "output_type": "execute_result"
    }
   ],
   "source": [
    "np.mean(NC[:, 0, max([0, 2 - 0]):2+1], axis=1) > threshold"
   ]
  },
  {
   "cell_type": "code",
   "execution_count": 28,
   "id": "a4fb1c20-1698-4c51-af13-f2ebdf76eb2c",
   "metadata": {
    "tags": []
   },
   "outputs": [
    {
     "data": {
      "text/plain": [
       "array([-0.64904152])"
      ]
     },
     "execution_count": 28,
     "metadata": {},
     "output_type": "execute_result"
    }
   ],
   "source": [
    "NC[:, 0, 2]"
   ]
  },
  {
   "cell_type": "markdown",
   "id": "a6eb74e6-4bc7-4192-a570-fa91d6b01d89",
   "metadata": {},
   "source": [
    "# Reward magnitude changes"
   ]
  },
  {
   "cell_type": "code",
   "execution_count": 38,
   "id": "9133e20e-2243-44b5-8c67-1f400dd97a28",
   "metadata": {
    "tags": []
   },
   "outputs": [],
   "source": [
    "# Task parameters\n",
    "cuerewdelay = [1, 1, 1]\n",
    "postrewdelay = [1, 1, 1]\n",
    "numcue = [50, 900, 50]\n",
    "rew_mags = [1, 5, 10]\n",
    "rew_probs = [1, 1, 1]\n",
    "meanITI = [30, 30, 30]\n",
    "maxITI = [i * 3 for i in meanITI]\n",
    "IRI = [x + y for x, y in zip(meanITI, cuerewdelay)]\n",
    "\n",
    "# Model parameters\n",
    "samplingperiod = 0.2\n",
    "alpha = 0.02\n",
    "alpha_r = alpha * 10\n",
    "w = 0.5\n",
    "k = 1\n",
    "Tratio = 1.2\n",
    "minimumrate = 10 ** (-3)\n",
    "threshold = 0.6\n",
    "maximumjitter = 0.1\n",
    "beta = np.array([[0, 1]])\n",
    "Rtrue = np.array([[0, 1]])\n",
    "nIter = 20\n",
    "da_means = [[float('nan') for _ in range(nIter)] for _ in range(3)]\n",
    "da_stds = [[float('nan') for _ in range(nIter)] for _ in range(3)]"
   ]
  },
  {
   "cell_type": "code",
   "execution_count": 36,
   "id": "bdbe2dd8-9781-45bc-83ab-e04f7d1da19b",
   "metadata": {
    "tags": []
   },
   "outputs": [],
   "source": [
    "import numpy as np\n",
    "\n",
    "def simulateEvents(n_cues, cue_label, reward_label,\n",
    "                   reward_mag, omissionlabel, mean_ITI, max_ITI,\n",
    "                   cue_rew_delay, rew_prob,\n",
    "                   postrewdelay, bgdrw_label=None,\n",
    "                   bgdrw_IRI=None, bgdrw_cue_delay=None,\n",
    "                   bgdrw_mag=None):\n",
    "    # SIMULATEEVENTS: Output an eventlog for the given cue reward parameters.\n",
    "\n",
    "    # First check if one cue or multiple are being simulated (scalar vs. array)\n",
    "    if len(mean_ITI) == 1:\n",
    "        mean_ITI = [mean_ITI[0]] * len(cue_label)\n",
    "    if len(max_ITI) == 1:\n",
    "        max_ITI = [max_ITI[0]] * len(cue_label)\n",
    "    if len(cue_rew_delay) == 1:\n",
    "        cue_rew_delay = [cue_rew_delay[0]] * len(cue_label)\n",
    "    if len(postrewdelay) == 1:\n",
    "        postrewdelay = [postrewdelay[0]] * len(cue_label)\n",
    "    if len(reward_mag) == 1:\n",
    "        reward_mag = [reward_mag[0]] * len(cue_label)\n",
    "\n",
    "    eventlog = np.empty((2 * sum(n_cues), 3))\n",
    "    eventlog[:] = np.nan  # Initialize eventlog\n",
    "    # For multiple unique cues, generate random sequence to present cues\n",
    "    order_cue = np.concatenate([np.ones(x) * y for x, y in zip(n_cues, range(1, len(cue_label) + 1))])\n",
    "    np.random.shuffle(order_cue)\n",
    "\n",
    "    running_time = 0\n",
    "    running_idx = 0\n",
    "    \n",
    "    for i in range(sum(n_cues)):\n",
    "        running_idx += 1\n",
    "        icue = int(order_cue[i])  # Index of unique cue being generated\n",
    "        new_ts = np.random.exponential(mean_ITI[icue - 1])  # Exp. dist. timestamp for given cue\n",
    "        if new_ts > max_ITI[icue - 1]:\n",
    "            # If new ts exceeds max, set to max\n",
    "            new_ts = max_ITI[icue - 1]\n",
    "        # Update eventlog with cue label and new timestamp\n",
    "        eventlog[running_idx - 1, 0] = cue_label[icue - 1]\n",
    "        eventlog[running_idx - 1, 1] = new_ts + running_time\n",
    "        eventlog[running_idx - 1, 2] = 0\n",
    "        running_time += new_ts  # Update running time\n",
    "        if rew_prob[icue - 1] > np.random.rand():  # Rng to determine if reward is delivered\n",
    "            running_idx += 1\n",
    "            eventlog[running_idx - 1, 0] = reward_label[icue - 1]\n",
    "            eventlog[running_idx - 1, 1] = running_time + cue_rew_delay[icue - 1]\n",
    "            eventlog[running_idx - 1, 2] = reward_mag[icue - 1]\n",
    "            running_time += cue_rew_delay[icue - 1]\n",
    "        else:\n",
    "            # If no reward is delivered and omission is being tracked, save\n",
    "            # omission instance in eventlog\n",
    "            if not np.isnan(omissionlabel[icue - 1]):\n",
    "                running_idx += 1\n",
    "                eventlog[running_idx - 1, 0] = omissionlabel[icue - 1]\n",
    "                eventlog[running_idx - 1, 1] = running_time + cue_rew_delay[icue - 1]\n",
    "                eventlog[running_idx - 1, 2] = 0\n",
    "                running_time += cue_rew_delay[icue - 1]\n",
    "        running_time += postrewdelay[icue - 1]\n",
    "\n",
    "    # Estimate number of rewards based on reward probability\n",
    "    meanrewardnum = [float('nan')] * len(cue_label)\n",
    "    for icue in range(len(cue_label)):\n",
    "        meanrewardnum[icue] = rew_prob[icue]\n",
    "        \n",
    "    # If background rewards are also being simulated...\n",
    "    if bgdrw_IRI is not None:\n",
    "        # Generate sufficient backgoround rewards (based on running time)\n",
    "        numbgdrw = int(round(running_time / bgdrw_IRI)) + 100\n",
    "        eventlog_bgdrw = simulateBackgroundRewards(numbgdrw, bgdrw_IRI, bgdrw_label, bgdrw_mag, 0)\n",
    "        eventlog_bgdrw = eventlog_bgdrw[eventlog_bgdrw[:, 1] <= running_time]\n",
    "        for icue in range(len(cue_label)):\n",
    "            cuetimes = eventlog[eventlog[:, 0] == cue_label[icue], 1]\n",
    "            # Find instances where background rewards are too close to cues\n",
    "            in_bgdrw_cue_delay = np.sum([[(x - y <= bgdrw_cue_delay) & (x - y >= 0) for y in eventlog_bgdrw[:, 1]] for x in cuetimes], axis=0) > 0\n",
    "            # Find instances where background rewards are in cue/rew delay\n",
    "            in_cue_rew_delay = np.sum([[(y - x <= cue_rew_delay[icue] + postrewdelay[icue]) & (y - x >= 0) for y in eventlog_bgdrw[:, 1]] for x in cuetimes], axis=0) > 0\n",
    "            out = in_bgdrw_cue_delay | in_cue_rew_delay\n",
    "            # Remove instances of background rewards that satisfy above\n",
    "            eventlog_bgdrw = eventlog_bgdrw[~out]\n",
    "            meanrewardnum[icue] += (mean_ITI[icue] - bgdrw_cue_delay) / bgdrw_IRI\n",
    "        # Update eventlog with background rewards and sort by time\n",
    "        eventlog = np.concatenate((eventlog, eventlog_bgdrw))\n",
    "        eventlog = eventlog[eventlog[:, 1].argsort()]\n",
    "\n",
    "    # Calculate the mean interreward interval\n",
    "    IRI = sum([(x + y + z) * (a / n_cues[0]) for x, y, z, a in zip(cue_rew_delay, mean_ITI, postrewdelay, n_cues)]) / sum([x * (y / n_cues[0]) for x, y in zip(meanrewardnum, n_cues)])\n",
    "    # Remove nans from final eventlog\n",
    "    eventlog = eventlog[~np.isnan(eventlog).any(axis=1)]\n",
    "    \n",
    "    return eventlog, IRI"
   ]
  },
  {
   "cell_type": "code",
   "execution_count": 40,
   "id": "4e730629-5469-4df2-a26a-f32520449aca",
   "metadata": {
    "tags": []
   },
   "outputs": [
    {
     "name": "stderr",
     "output_type": "stream",
     "text": [
      "/tmp/ipykernel_25/1831270426.py:134: RuntimeWarning: invalid value encountered in true_divide\n",
      "  SRC[:, :, jt] = PRC[:, :, jt] * np.tile(Mi[:, jt], (nstimuli, 1)) / np.tile(Mi[:, jt], (nstimuli, 1)).T\n"
     ]
    }
   ],
   "source": [
    "# Run simulation\n",
    "# Simulate for cue reward pairs with three different magnitudes\n",
    "for iIter in range(nIter):\n",
    "    # Simulate cue and reward delivery\n",
    "    eventlog, _ = simulateEvents(numcue, [1, 1, 1], [2, 2, 2], rew_mags, float('nan'),\n",
    "                              meanITI, maxITI, cuerewdelay, rew_probs, postrewdelay)\n",
    "\n",
    "    # Calculate model values\n",
    "    DA, ANCCR, PRC, SRC, NC, Rs, Delta, Mij, Mi = calculate_anccr(eventlog, IRI[0] * Tratio,\n",
    "                                                 alpha, k,\n",
    "                                                 samplingperiod,\n",
    "                                                 w,\n",
    "                                                 threshold,\n",
    "                                                 minimumrate,\n",
    "                                                 beta,\n",
    "                                                 alpha_r,\n",
    "                                                 maximumjitter,\n",
    "                                                 float('nan'),\n",
    "                                                 float('nan'))\n",
    "\n",
    "    # Find indices corresponding to each reward magnitude\n",
    "    tens = [i for i in range(len(eventlog)) if eventlog[i][2] == 10]\n",
    "    fives = [i for i in range(len(eventlog)) if eventlog[i][2] == 5]\n",
    "    ones = [i for i in range(len(eventlog)) if eventlog[i][2] == 1]\n",
    "\n",
    "    # Save separate DA responses for each reward magnitude\n",
    "    da_10 = [DA[i] for i in tens]\n",
    "    da_5 = [DA[i] for i in fives]\n",
    "    da_1 = [DA[i] for i in ones]\n",
    "    da_means[0][iIter] = sum(da_1) / len(da_1)\n",
    "    da_means[1][iIter] = sum(da_5) / len(da_5)\n",
    "    da_means[2][iIter] = sum(da_10) / len(da_10)"
   ]
  },
  {
   "cell_type": "code",
   "execution_count": 41,
   "id": "60558c7b-b871-4f24-acc1-ed3f10f4a51b",
   "metadata": {
    "tags": []
   },
   "outputs": [
    {
     "data": {
      "image/png": "[encoded data removed]",
      "text/plain": [
       "<Figure size 432x288 with 1 Axes>"
      ]
     },
     "metadata": {
      "needs_background": "light"
     },
     "output_type": "display_data"
    }
   ],
   "source": [
    "import matplotlib.pyplot as plt\n",
    "import numpy as np\n",
    "\n",
    "# Plot mean values\n",
    "fig, ax = plt.subplots()\n",
    "ax.plot(range(1, 4), da_means, color=[0.6, 0.6, 0.6], linewidth=0.35)\n",
    "ax.errorbar(range(1, 4), np.mean(da_means, axis=1), np.std(da_means, axis=1) / np.sqrt(nIter), color='k', linewidth=0.5)\n",
    "ax.plot([0, 4], [0, 0], linestyle=':', color='k', linewidth=0.35)\n",
    "ax.set_xticks(range(1, 4))\n",
    "ax.set_xticklabels(rew_mags)\n",
    "ax.set_yticks(range(-4, 9, 4))\n",
    "ax.set_ylim([-4, 8])\n",
    "ax.set_xlim([0.5, 3.5])\n",
    "ax.set_xlabel('Reward magnitude')\n",
    "ax.set_ylabel('Predicted DA response')\n",
    "plt.show()"
   ]
  },
  {
   "cell_type": "code",
   "execution_count": 48,
   "id": "34cf3492-5518-48f5-8b91-887ac93e0e51",
   "metadata": {
    "tags": []
   },
   "outputs": [
    {
     "data": {
      "text/plain": [
       "array([[ 1.        , 43.62440152,  0.        ],\n",
       "       [ 2.        , 44.62440152,  5.        ],\n",
       "       [ 1.        , 57.67675524,  0.        ],\n",
       "       [ 2.        , 58.67675524,  5.        ],\n",
       "       [ 1.        , 63.23928777,  0.        ],\n",
       "       [ 2.        , 64.23928777,  5.        ],\n",
       "       [ 1.        , 84.9371234 ,  0.        ],\n",
       "       [ 2.        , 85.9371234 ,  5.        ],\n",
       "       [ 1.        , 91.70593499,  0.        ],\n",
       "       [ 2.        , 92.70593499,  5.        ]])"
      ]
     },
     "execution_count": 48,
     "metadata": {},
     "output_type": "execute_result"
    }
   ],
   "source": [
    "eventlog[:10]"
   ]
  },
  {
   "cell_type": "code",
   "execution_count": null,
   "id": "61546a2b-1d1c-40ad-bff4-9e54ad16704f",
   "metadata": {},
   "outputs": [],
   "source": []
  },
  {
   "cell_type": "markdown",
   "id": "6075a097-baf9-46bd-b82f-ff3c7a1108a2",
   "metadata": {},
   "source": [
    "# Reward Probability"
   ]
  },
  {
   "cell_type": "code",
   "execution_count": 150,
   "id": "1fbc293c-309c-441f-9095-4093593758de",
   "metadata": {
    "tags": []
   },
   "outputs": [
    {
     "name": "stdout",
     "output_type": "stream",
     "text": [
      "0\n"
     ]
    },
    {
     "name": "stderr",
     "output_type": "stream",
     "text": [
      "/tmp/ipykernel_25/3095786554.py:134: RuntimeWarning: invalid value encountered in true_divide\n",
      "  SRC[:, :, jt] = PRC[:, :, jt] * np.tile(Mi[:, jt], (nstimuli, 1)) / np.tile(Mi[:, jt], (nstimuli, 1)).T\n",
      "/tmp/ipykernel_25/3095786554.py:134: RuntimeWarning: divide by zero encountered in true_divide\n",
      "  SRC[:, :, jt] = PRC[:, :, jt] * np.tile(Mi[:, jt], (nstimuli, 1)) / np.tile(Mi[:, jt], (nstimuli, 1)).T\n"
     ]
    },
    {
     "name": "stdout",
     "output_type": "stream",
     "text": [
      "1\n",
      "2\n",
      "0\n",
      "1\n",
      "2\n",
      "0\n",
      "1\n",
      "2\n"
     ]
    }
   ],
   "source": [
    "import numpy as np\n",
    "\n",
    "# Task parameters\n",
    "meanITI = np.array([100])\n",
    "maxITI = [meanITI[0] * 3]\n",
    "cuerewdelay = [0.5]\n",
    "postrewdelay = [1]\n",
    "numcue = [3000]\n",
    "\n",
    "# Model parameters\n",
    "samplingperiod = 0.2\n",
    "alpha = 0.02\n",
    "alpha_r = 0.2\n",
    "w = 0.6\n",
    "k = 0.01\n",
    "Tratio = 1.2\n",
    "minimumrate = 10 ** (-3)\n",
    "threshold = 0.6\n",
    "maximumjitter = 0.1\n",
    "beta = np.array([[0, 1, 0]])\n",
    "\n",
    "nIter = 3\n",
    "rew_probs = np.array([[0.3, 0.6, 0.9]])\n",
    "IRI = (meanITI + cuerewdelay) / rew_probs[0]\n",
    "\n",
    "probability_results = np.empty((nIter, rew_probs.shape[1], beta.shape[1]))\n",
    "probability_results[:] = np.nan\n",
    "\n",
    "# Run simulation\n",
    "# Simulate for cue reward pairs with three different reward probabilities\n",
    "DA = []\n",
    "for j in range(rew_probs.shape[1]):\n",
    "    for iIter in range(nIter):\n",
    "        print(iIter)\n",
    "        # Simulate cue/reward delivery\n",
    "        eventlog, _ = simulateEvents(numcue, [1], [2], [1], [3],\n",
    "                                  meanITI, maxITI, cuerewdelay,\n",
    "                                  rew_probs[:, j], postrewdelay)\n",
    "\n",
    "        om_resp = np.zeros(sum(eventlog[:, 0] == 3))\n",
    "        omidx = np.where(eventlog[:, 0] == 3)[0]\n",
    "        # Recognition of omission state is dependent on the probability of reward\n",
    "        # if the reward probability is 10%, you would expect omission state after cue only in a 10% probability\n",
    "        outom = np.sort(np.random.choice(len(omidx), int(len(omidx) * (1 - rew_probs[:, j])), replace=False))\n",
    "        # eventlog[omidx[outom]] = []\n",
    "        eventlog = np.delete(eventlog, omidx[outom], axis=0)\n",
    "\n",
    "        # Calculate model values\n",
    "        DA, ANCCR, PRC, SRC, NC, Rs, Delta, Mij, Mi = calculate_anccr(eventlog,\n",
    "                                                     IRI[1] * Tratio,\n",
    "                                                     alpha,\n",
    "                                                     k,\n",
    "                                                     samplingperiod,\n",
    "                                                     w,\n",
    "                                                     threshold,\n",
    "                                                     minimumrate,\n",
    "                                                     beta,\n",
    "                                                     alpha_r,\n",
    "                                                     maximumjitter,\n",
    "                                                     float('nan'),\n",
    "                                                     np.array([[3], [2]]))\n",
    "\n",
    "        # Save cue, reward, omission indices\n",
    "        cue_resp = DA[eventlog[:, 0] == 1]\n",
    "        rew_resp = DA[eventlog[:, 0] == 2]\n",
    "        om_resp[~np.isin(range(len(omidx)), outom)] = DA[eventlog[:, 0] == 3]\n",
    "        probability_results[iIter][j][0] = np.mean(cue_resp[-101:])\n",
    "        probability_results[iIter][j][1] = np.mean(rew_resp[-101:])\n",
    "        probability_results[iIter][j][2] = np.mean(om_resp[-101:])"
   ]
  },
  {
   "cell_type": "code",
   "execution_count": 152,
   "id": "c517212a-be61-4304-9137-d9d8c7f21127",
   "metadata": {
    "tags": []
   },
   "outputs": [
    {
     "data": {
      "image/png": "[encoded data removed]",
      "text/plain": [
       "<Figure size 432x288 with 1 Axes>"
      ]
     },
     "metadata": {
      "needs_background": "light"
     },
     "output_type": "display_data"
    }
   ],
   "source": [
    "import matplotlib.pyplot as plt\n",
    "\n",
    "# Plot reward probability results\n",
    "clr_light = [[0.6, 0.6, 0.6], [0.6, 0.6, 1], [1, 0.6, 0.6]]\n",
    "clr = [[0, 0, 0], [0, 0, 1], [1, 0, 0]]\n",
    "fig, ax = plt.subplots()\n",
    "for i in range(3):\n",
    "    ax.plot(range(1, 4), np.squeeze(probability_results[:, :, i]), color=clr_light[i], linewidth=0.35)\n",
    "    ax.errorbar(range(1, 4), np.mean(probability_results[:, :, i], axis=0),\n",
    "                np.std(probability_results[:, :, i], axis=0) / np.sqrt(nIter),\n",
    "                color=clr[i], linewidth=0.5)\n",
    "ax.plot([0, 4], [0, 0], linestyle=':', color='k', linewidth=0.35)\n",
    "ax.set_xticks(range(1, 4))\n",
    "ax.set_xticklabels([int(x * 100) for x in rew_probs[0]])\n",
    "ax.set_yticks(np.arange(-0.5, 1.5, 0.5))\n",
    "ax.set_ylim([-0.3, 1.3])\n",
    "ax.set_xlim([0.5, 3.5])\n",
    "ax.set_xlabel('Reward probability (%)')\n",
    "ax.set_ylabel('Predicted DA response')\n",
    "plt.show()"
   ]
  },
  {
   "cell_type": "code",
   "execution_count": null,
   "id": "8ed4c617-e4f7-434e-9b5c-75ffd84c89cf",
   "metadata": {},
   "outputs": [],
   "source": []
  }
 ],
 "metadata": {
  "kernelspec": {
   "display_name": "Python 3 (ipykernel)",
   "language": "python",
   "name": "python3"
  },
  "language_info": {
   "codemirror_mode": {
    "name": "ipython",
    "version": 3
   },
   "file_extension": ".py",
   "mimetype": "text/x-python",
   "name": "python",
   "nbconvert_exporter": "python",
   "pygments_lexer": "ipython3",
   "version": "3.8.10"
  }
 },
 "nbformat": 4,
 "nbformat_minor": 5
}
