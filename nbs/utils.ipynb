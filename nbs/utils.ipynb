{
 "cells": [
  {
   "cell_type": "markdown",
   "id": "32283574-42e8-4525-9c32-292ebc735706",
   "metadata": {},
   "source": [
    "# Port ANCCR function to Python\n",
    "\n",
    "Utilizing `calculateANCCR` function in `ANCCR.functions.calculateANCCR.m`."
   ]
  },
  {
   "cell_type": "code",
   "execution_count": 5,
   "id": "5fc14747-ea0f-4412-8fe1-dcc2cbc14a55",
   "metadata": {},
   "outputs": [],
   "source": [
    "from typing import Dict\n",
    "\n",
    "import numpy as np"
   ]
  },
  {
   "cell_type": "code",
   "execution_count": 187,
   "id": "391c68c6-2591-47bb-91a6-e6520a2fd48e",
   "metadata": {},
   "outputs": [],
   "source": [
    "meanITI = 12\n",
    "numrewards = 500\n",
    "\n",
    "# anccr model parameters\n",
    "samplingperiod = 0.2\n",
    "alpha_anccr = {}\n",
    "alpha_anccr[\"exponent\"] = 0.1\n",
    "alpha_anccr[\"init\"] = 0.25\n",
    "alpha_anccr[\"min\"] = 0.02\n",
    "alpha_r = 0.2\n",
    "w = 0.5          \n",
    "k = 1\n",
    "minimumrate = 10 ** -3\n",
    "maximumjitter = 0.1\n",
    "beta = [1]  # Check what beta does in calculate_anccr\n",
    "threshold = 0.6\n",
    "T = meanITI*10  # have very large T\n",
    "\n",
    "nIter = 100\n",
    "rwrsp = np.zeros((numrewards,nIter))"
   ]
  },
  {
   "cell_type": "code",
   "execution_count": null,
   "id": "08742c12-96a6-4b2f-8c0d-4c766a790fe6",
   "metadata": {},
   "outputs": [],
   "source": [
    "def calculate_anccr(\n",
    "    eventlog: np.array,\n",
    "    T: int,\n",
    "    alpha: Dict,\n",
    "    k: int,\n",
    "    samplinginterval: float,\n",
    "    w: float,\n",
    "    threshold: float,\n",
    "    minimumrate: float,\n",
    "    beta: int,\n",
    "    alpha_r: float,\n",
    "    maximumjitter: float,\n",
    "    optolog=None,\n",
    "    omidix=[np.nan, np.nan],\n",
    "    exact_mean_or_not=0,\n",
    "    nevent_for_edge=0\n",
    "):\n",
    "    \"\"\"\n",
    "    Calculate ANCCR.\n",
    "    \n",
    "    omidx: First entry is omission index, second entry is corresponding reward index.\n",
    "    exact_mean_or_not: If exact_mean_or_not=1, calculate exact mean for Mij instead of\n",
    "        using alpha.\n",
    "    nevent_for_edge: if nevent_for_edge>0, use averaged NC for last nevent to\n",
    "        calculate edge.\n",
    "    \"\"\"\n",
    "    if alpha_r > 1: alpha_r = 1\n",
    "    if not optolog:\n",
    "        optolog = np.zeros((eventlog.shape[0]), 2))  # TODO: What is eventlog.\n",
    "        \n",
    "    omtrue = np.zeros(omidx.shape[0], 1)\n",
    "    uniquetime = np.unique(eventlog[:,1])\n",
    "    \n",
    "    ## If more than one event happens at the same time, assume random \n",
    "    ## perceptual delay between them.\n",
    "    \n",
    "    for jt in range(1, len(uniquetime)):\n",
    "        if sum(eventlog[:, 1] == uniquetime[jt]) == 1:\n",
    "            continue\n",
    "        idx = eventlog[:, 1] == uniquetime(jt)\n",
    "        idx = idx[1:]\n",
    "        eventlog[idx, 1] = eventlog[idx, 1] + np.randn(len(idx), 1) * maximumjitter\n",
    "        \n",
    "# TODO: Sort rows of eventlog by time (2 column)\n",
    "eventlog = sortrows(eventlog,2);\n",
    "ntime = eventlog.shape[0]"
   ]
  },
  {
   "cell_type": "code",
   "execution_count": 140,
   "id": "c4aae4f9-9245-4a97-a7d9-4940afed463b",
   "metadata": {},
   "outputs": [],
   "source": [
    "def legacy_simulate_background_reward(numrewards, rewITI, rewlabel, rewmag, truncation):\n",
    "    \"\"\"\n",
    "    Output an eventlog with exclusively background\n",
    "    rewards. Inputs may be scalar or arrays depending on the number of unique\n",
    "    background rewards specified.\n",
    "    \"\"\"\n",
    "    # Set upper limit on ITI (only used if truncation == 1)\n",
    "    maxrewITI = 3 * rewITI\n",
    "    # Initialize empty eventlog\n",
    "    eventlog = np.zeros((numrewards,3))\n",
    "    # Keep track of reward indices\n",
    "    running_idx = 0\n",
    "    # If multiple unique rewards, loop instance for each type\n",
    "    for irw in range(1, rewlabel+1):\n",
    "        # Start simulation time at 0\n",
    "        running_time = 0\n",
    "        # For each reward (irw) simulate 'numrewards' timesteps\n",
    "        for i in range(1, numrewards+1):\n",
    "            # Generate exp. dist. timestep for current reward instance\n",
    "            new_ts = round(np.random.exponential(rewITI), 4)\n",
    "            if truncation:  # If capping ITI at maxITI\n",
    "                while new_ts > maxrewITI:\n",
    "                    # Simulate a new ts if maxITI is exceeded\n",
    "                    new_ts = round(np.random.exponential(rewITI), 4)\n",
    "            # Update eventlog\n",
    "            eventlog[running_idx, 0] = rewlabel  # Column 1 = label\n",
    "            eventlog[running_idx, 1] = new_ts + running_time  # \" 2 = ts\n",
    "            eventlog[running_idx, 2] = rewmag  # \" 3 = rew. magnitude\n",
    "            running_idx = running_idx + 1\n",
    "            running_time = running_time + new_ts  # Update running time\n",
    "    \n",
    "    # Resort eventlog by timestamp\n",
    "    eventlog = eventlog[eventlog[:, 1].argsort()]\n",
    "    \n",
    "    # Once any reward reaches to numrewards, finish the session\n",
    "    # lasttrial = min(cellfun(@(x) find(eventlog(:,1)==x,1,'last'),num2cell(rewlabel)));\n",
    "    # eventlog(lasttrial+1:end,:) = [];\n",
    "    \n",
    "    return eventlog"
   ]
  },
  {
   "cell_type": "code",
   "execution_count": 171,
   "id": "bb70f7f2-4428-4d75-9b08-045876fdd7d4",
   "metadata": {},
   "outputs": [],
   "source": [
    "def simulate_background_reward(numrewards, rewITI, rewlabel, rewmag, truncation):\n",
    "    \"\"\"\n",
    "    Output an eventlog with exclusively background\n",
    "    rewards. Inputs may be scalar or arrays depending on the number of unique\n",
    "    background rewards specified.\n",
    "    \"\"\"\n",
    "    labels = np.array([rewlabel] * numrewards)\n",
    "    rewards = np.array([rewmag] * numrewards)\n",
    "    ts = np.random.exponential(rewITI, numrewards).cumsum().round(4)\n",
    "    eventlog = np.array([labels, ts, rewards]).T\n",
    "    \n",
    "    return eventlog"
   ]
  },
  {
   "cell_type": "code",
   "execution_count": 172,
   "id": "e693d4fe-4838-46fd-ad69-b8503c11fcd3",
   "metadata": {},
   "outputs": [],
   "source": [
    "def test_simulate_background_reward():\n",
    "    expected = np.array([\n",
    "        [1] * 10,\n",
    "        [\n",
    "            2.4589,\n",
    "            3.6462,\n",
    "            28.4103,\n",
    "            29.4976,\n",
    "            34.9972,\n",
    "            62.9270,\n",
    "            78.2671,\n",
    "            85.5094,\n",
    "            86.0305,\n",
    "            86.4594,\n",
    "        ],\n",
    "        [1] * 10]\n",
    "    ).T\n",
    "    actual = simulate_background_reward(10, 12, 1, 1, 0)\n",
    "    \n",
    "    assert expected.shape == actual.shape, f\"{actual.shape} is not {expected.shape}\"\n",
    "    \n",
    "test_simulate_background_reward()"
   ]
  },
  {
   "cell_type": "code",
   "execution_count": 177,
   "id": "d98c2237-ac8e-4c1f-85e9-04ce21bbb73b",
   "metadata": {},
   "outputs": [
    {
     "data": {
      "text/plain": [
       "array([[ 1.    ,  0.8565,  1.    ],\n",
       "       [ 1.    , 21.8715,  1.    ],\n",
       "       [ 1.    , 27.7139,  1.    ],\n",
       "       [ 1.    , 31.841 ,  1.    ],\n",
       "       [ 1.    , 32.1078,  1.    ]])"
      ]
     },
     "execution_count": 177,
     "metadata": {},
     "output_type": "execute_result"
    }
   ],
   "source": [
    "eventlog = simulate_background_reward(5, 12, 1, 1, 0)\n",
    "eventlog"
   ]
  },
  {
   "cell_type": "code",
   "execution_count": 180,
   "id": "ff068e22-2d30-42e2-8a86-c3310e16a3d1",
   "metadata": {},
   "outputs": [
    {
     "data": {
      "text/plain": [
       "array([ 1.8565, 22.8715, 28.7139, 32.841 , 33.1078])"
      ]
     },
     "execution_count": 180,
     "metadata": {},
     "output_type": "execute_result"
    }
   ],
   "source": [
    "eventlog[:,1] + 1"
   ]
  },
  {
   "cell_type": "code",
   "execution_count": null,
   "id": "c81f7bd4-a3f9-466b-adee-1f177c0e89e4",
   "metadata": {},
   "outputs": [],
   "source": []
  }
 ],
 "metadata": {
  "kernelspec": {
   "display_name": "Python 3 (ipykernel)",
   "language": "python",
   "name": "python3"
  },
  "language_info": {
   "codemirror_mode": {
    "name": "ipython",
    "version": 3
   },
   "file_extension": ".py",
   "mimetype": "text/x-python",
   "name": "python",
   "nbconvert_exporter": "python",
   "pygments_lexer": "ipython3",
   "version": "3.8.10"
  }
 },
 "nbformat": 4,
 "nbformat_minor": 5
}
