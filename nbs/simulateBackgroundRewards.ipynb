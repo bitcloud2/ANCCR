{
 "cells": [
  {
   "cell_type": "markdown",
   "id": "98fb66be-c5d1-4595-b730-19f72212232b",
   "metadata": {},
   "source": [
    "# Bing Chat version below\n",
    "\n",
    "Doesn't really work."
   ]
  },
  {
   "cell_type": "code",
   "execution_count": 2,
   "id": "d74b2e65-3448-4300-b237-0e76a958698f",
   "metadata": {
    "tags": []
   },
   "outputs": [],
   "source": [
    "meanITI = 12\n",
    "numrewards = 500\n",
    "\n",
    "# anccr model parameters\n",
    "samplingperiod = 0.2\n",
    "alpha_anccr = {}\n",
    "alpha_anccr[\"exponent\"] = 0.1\n",
    "alpha_anccr[\"init\"] = 0.25\n",
    "alpha_anccr[\"min\"] = 0.02\n",
    "alpha_r = 0.2\n",
    "w = 0.5          \n",
    "k = 1\n",
    "minimumrate = 10 ** -3\n",
    "maximumjitter = 0.1\n",
    "beta = [1]  # Check what beta does in calculate_anccr\n",
    "threshold = 0.6\n",
    "T = meanITI*10  # have very large T\n",
    "\n",
    "nIter = 100\n",
    "rwrsp = np.zeros((numrewards,nIter))"
   ]
  },
  {
   "cell_type": "code",
   "execution_count": 10,
   "id": "a057ab57-e261-44aa-83df-d77207dbfcb7",
   "metadata": {},
   "outputs": [],
   "source": [
    "import numpy as np\n",
    "\n",
    "def simulateBackgroundRewards(numrewards, rewITI, rewlabel, rewmag, truncation):\n",
    "    \"\"\"\n",
    "    SIMULATEBACKGROUNDREWARDS outputs an eventlog with exclusively background\n",
    "    rewards. Inputs may be scalar or arrays depending on the number of unique\n",
    "    background rewards specified.\n",
    "    \"\"\"\n",
    "    # Set upper limit on ITI (only used if truncation == 1)\n",
    "    maxrewITI = 3 * rewITI\n",
    "    # Initialize empty eventlog\n",
    "    eventlog = np.empty((numrewards, 3))\n",
    "    eventlog[:] = np.nan\n",
    "    # Keep track of reward indices\n",
    "    running_idx = 0\n",
    "    # If multiple unique rewards, loop instance for each type\n",
    "    for irw in range(1, rewlabel+1):\n",
    "        # Start simulation time at 0\n",
    "        running_time = 0\n",
    "        # For each reward (irw) simulate 'numrewards' timesteps\n",
    "        for i in range(1, numrewards+1):\n",
    "            running_idx += 1\n",
    "            # Generate exp. dist. timestep for current reward instance\n",
    "            new_ts = np.random.exponential(rewITI, 4)\n",
    "            if truncation == 1:  # If capping ITI at maxITI\n",
    "                while new_ts > maxrewITI:\n",
    "                    # Simulate a new ts if maxITI is exceeded\n",
    "                    new_ts = np.random.exponential(rewITI, 4)\n",
    "            # Update eventlog\n",
    "            eventlog[running_idx - 1, 0] = rewlabel  # Column 1 = label\n",
    "            eventlog[running_idx - 1, 1] = new_ts + running_time  # \" 2 = ts\n",
    "            eventlog[running_idx - 1, 2] = rewmag  # \" 3 = rew. magnitude\n",
    "            running_time += new_ts  # Update running time\n",
    "\n",
    "    # Resort eventlog by timestamp\n",
    "    eventlog = eventlog[eventlog[:, 1].argsort()]\n",
    "\n",
    "    # Once any reward reaches to numrewards, finish the session\n",
    "    lasttrial = min([np.where(eventlog[:,0]==x)[0][-1] for x in rewlabel])\n",
    "    eventlog = eventlog[:lasttrial+1,:]\n",
    "    \n",
    "    return eventlog"
   ]
  },
  {
   "cell_type": "code",
   "execution_count": 11,
   "id": "7f87d1d0-3452-4c73-9bec-7112f5a9910c",
   "metadata": {
    "tags": []
   },
   "outputs": [
    {
     "ename": "ValueError",
     "evalue": "setting an array element with a sequence.",
     "output_type": "error",
     "traceback": [
      "\u001b[0;31m---------------------------------------------------------------------------\u001b[0m",
      "\u001b[0;31mTypeError\u001b[0m                                 Traceback (most recent call last)",
      "\u001b[0;31mTypeError\u001b[0m: only size-1 arrays can be converted to Python scalars",
      "\nThe above exception was the direct cause of the following exception:\n",
      "\u001b[0;31mValueError\u001b[0m                                Traceback (most recent call last)",
      "Input \u001b[0;32mIn [11]\u001b[0m, in \u001b[0;36m<cell line: 1>\u001b[0;34m()\u001b[0m\n\u001b[0;32m----> 1\u001b[0m \u001b[43msimulateBackgroundRewards\u001b[49m\u001b[43m(\u001b[49m\u001b[43mnumrewards\u001b[49m\u001b[43m,\u001b[49m\u001b[43m \u001b[49m\u001b[43mmeanITI\u001b[49m\u001b[43m,\u001b[49m\u001b[43m \u001b[49m\u001b[38;5;241;43m1\u001b[39;49m\u001b[43m,\u001b[49m\u001b[43m \u001b[49m\u001b[38;5;241;43m1\u001b[39;49m\u001b[43m,\u001b[49m\u001b[43m \u001b[49m\u001b[38;5;241;43m0\u001b[39;49m\u001b[43m)\u001b[49m\n",
      "Input \u001b[0;32mIn [10]\u001b[0m, in \u001b[0;36msimulateBackgroundRewards\u001b[0;34m(numrewards, rewITI, rewlabel, rewmag, truncation)\u001b[0m\n\u001b[1;32m     29\u001b[0m \u001b[38;5;66;03m# Update eventlog\u001b[39;00m\n\u001b[1;32m     30\u001b[0m eventlog[running_idx \u001b[38;5;241m-\u001b[39m \u001b[38;5;241m1\u001b[39m, \u001b[38;5;241m0\u001b[39m] \u001b[38;5;241m=\u001b[39m rewlabel  \u001b[38;5;66;03m# Column 1 = label\u001b[39;00m\n\u001b[0;32m---> 31\u001b[0m \u001b[43meventlog\u001b[49m\u001b[43m[\u001b[49m\u001b[43mrunning_idx\u001b[49m\u001b[43m \u001b[49m\u001b[38;5;241;43m-\u001b[39;49m\u001b[43m \u001b[49m\u001b[38;5;241;43m1\u001b[39;49m\u001b[43m,\u001b[49m\u001b[43m \u001b[49m\u001b[38;5;241;43m1\u001b[39;49m\u001b[43m]\u001b[49m \u001b[38;5;241m=\u001b[39m new_ts \u001b[38;5;241m+\u001b[39m running_time  \u001b[38;5;66;03m# \" 2 = ts\u001b[39;00m\n\u001b[1;32m     32\u001b[0m eventlog[running_idx \u001b[38;5;241m-\u001b[39m \u001b[38;5;241m1\u001b[39m, \u001b[38;5;241m2\u001b[39m] \u001b[38;5;241m=\u001b[39m rewmag  \u001b[38;5;66;03m# \" 3 = rew. magnitude\u001b[39;00m\n\u001b[1;32m     33\u001b[0m running_time \u001b[38;5;241m+\u001b[39m\u001b[38;5;241m=\u001b[39m new_ts  \u001b[38;5;66;03m# Update running time\u001b[39;00m\n",
      "\u001b[0;31mValueError\u001b[0m: setting an array element with a sequence."
     ]
    }
   ],
   "source": [
    "simulateBackgroundRewards(numrewards, meanITI, 1, 1, 0)"
   ]
  },
  {
   "cell_type": "code",
   "execution_count": null,
   "id": "ec77626f-33bd-4861-9747-b3e80041f6ce",
   "metadata": {},
   "outputs": [],
   "source": []
  }
 ],
 "metadata": {
  "kernelspec": {
   "display_name": "Python 3 (ipykernel)",
   "language": "python",
   "name": "python3"
  },
  "language_info": {
   "codemirror_mode": {
    "name": "ipython",
    "version": 3
   },
   "file_extension": ".py",
   "mimetype": "text/x-python",
   "name": "python",
   "nbconvert_exporter": "python",
   "pygments_lexer": "ipython3",
   "version": "3.8.10"
  }
 },
 "nbformat": 4,
 "nbformat_minor": 5
}
